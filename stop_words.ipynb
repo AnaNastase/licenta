{
 "cells": [
  {
   "cell_type": "code",
   "execution_count": 1,
   "id": "0040aa14-950e-4eaf-bff8-98bd7bcf33a7",
   "metadata": {},
   "outputs": [],
   "source": [
    "import pandas as pd\n",
    "import spacy\n",
    "import en_core_web_md\n",
    "from collections import Counter"
   ]
  },
  {
   "cell_type": "code",
   "execution_count": 2,
   "id": "25e91230-5c2e-4b3b-a019-0116db5b411e",
   "metadata": {},
   "outputs": [],
   "source": [
    "# read csv\n",
    "authors = pd.read_csv('top_20_authors.csv')\n",
    "publications = pd.read_csv('publications-top_20_authors.csv', sep=',')"
   ]
  },
  {
   "cell_type": "code",
   "execution_count": 3,
   "id": "823b1fb0-f3ab-4949-8b17-b22c2bb73df3",
   "metadata": {},
   "outputs": [],
   "source": [
    "# load spacy model\n",
    "nlp = spacy.load('en_core_web_md')"
   ]
  },
  {
   "cell_type": "code",
   "execution_count": 4,
   "id": "f5fe6078-3f8c-4f87-947c-242515bc0056",
   "metadata": {},
   "outputs": [],
   "source": [
    "# tokenize documents and remove unnecessary words and punctuation\n",
    "remove_pos = ['ADV', 'PRON', 'CCONJ', 'PUNCT', 'PART', 'DET', 'ADP', 'SPACE', 'NUM', 'SYM', 'VERB', 'AUX']\n",
    "\n",
    "tokens = []\n",
    "for abstract in publications['abstract_text']:\n",
    "    if abstract and isinstance(abstract, str):\n",
    "        abstract_nlp = nlp(abstract)\n",
    "\n",
    "        t = []\n",
    "        for tok in abstract_nlp:\n",
    "            if tok.pos_ not in remove_pos and not tok.is_stop and tok.is_alpha:\n",
    "                t.append(tok.lemma_.lower())\n",
    "\n",
    "        tokens.append(t)"
   ]
  },
  {
   "cell_type": "code",
   "execution_count": 42,
   "id": "81b52925-1f76-43c1-8ef9-de48eb5e88c6",
   "metadata": {},
   "outputs": [],
   "source": [
    "# get the number of documents\n",
    "doc_count = len(tokens)\n",
    "\n",
    "# count the number of occurences for each word\n",
    "word_counts = Counter()\n",
    "for doc in tokens:\n",
    "    word_counts.update(doc)"
   ]
  },
  {
   "cell_type": "code",
   "execution_count": 46,
   "id": "0895bfce-443b-4fea-921c-45b180dfcf02",
   "metadata": {},
   "outputs": [
    {
     "name": "stdout",
     "output_type": "stream",
     "text": [
      "[('system', 3815), ('paper', 3699), ('method', 3245), ('datum', 3004), ('image', 2630), ('result', 2443), ('analysis', 2387), ('application', 2386), ('material', 2365), ('high', 2298), ('model', 2238), ('different', 2063), ('process', 2055), ('new', 2014), ('study', 1971), ('property', 1819), ('time', 1815), ('information', 1709), ('order', 1632), ('de', 1609), ('network', 1481), ('research', 1373), ('technique', 1343), ('solution', 1342), ('type', 1335), ('approach', 1276), ('technology', 1249), ('development', 1228), ('structure', 1222), ('nanoparticle', 1202), ('learning', 1193), ('activity', 1162), ('use', 1147), ('energy', 1096), ('effect', 1096), ('important', 1092), ('surface', 1077), ('field', 1074), ('large', 1052), ('processing', 1035), ('algorithm', 1035), ('environment', 1025), ('cell', 1024), ('user', 1013), ('feature', 996), ('level', 984), ('main', 960), ('drug', 938), ('area', 937), ('content', 937)]\n"
     ]
    }
   ],
   "source": [
    "# print most common words\n",
    "print(word_counts.most_common(50))"
   ]
  },
  {
   "cell_type": "code",
   "execution_count": null,
   "id": "39f0c490-6d8e-483a-86ec-9bd2d6652c86",
   "metadata": {},
   "outputs": [],
   "source": [
    "# extract words that appear in more than 80% of documents\n",
    "stop_words = [word for word, count in word_counts.items() if count / doc_count > 0.5]"
   ]
  },
  {
   "cell_type": "code",
   "execution_count": 41,
   "id": "65fd1ff2-723b-4f8b-bf89-3de8efc1e771",
   "metadata": {},
   "outputs": [
    {
     "name": "stdout",
     "output_type": "stream",
     "text": [
      "7731\n",
      "0\n",
      "[]\n"
     ]
    }
   ],
   "source": [
    "print(doc_count)\n",
    "print(len(stop_words))\n",
    "print(stop_words)"
   ]
  },
  {
   "cell_type": "code",
   "execution_count": null,
   "id": "7ccd4c42-3b97-4116-88f3-b7760121440f",
   "metadata": {},
   "outputs": [],
   "source": []
  }
 ],
 "metadata": {
  "kernelspec": {
   "display_name": "Python 3 (ipykernel)",
   "language": "python",
   "name": "python3"
  },
  "language_info": {
   "codemirror_mode": {
    "name": "ipython",
    "version": 3
   },
   "file_extension": ".py",
   "mimetype": "text/x-python",
   "name": "python",
   "nbconvert_exporter": "python",
   "pygments_lexer": "ipython3",
   "version": "3.9.0"
  }
 },
 "nbformat": 4,
 "nbformat_minor": 5
}
