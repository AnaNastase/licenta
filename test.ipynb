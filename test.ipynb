{
 "cells": [
  {
   "cell_type": "code",
   "execution_count": 10,
   "id": "6c9d8b59-1d16-4ded-a013-e2a423539ec1",
   "metadata": {},
   "outputs": [],
   "source": [
    "import pandas as pd\n",
    "import fasttext\n",
    "import re"
   ]
  },
  {
   "cell_type": "code",
   "execution_count": 344,
   "id": "44bfe048-700f-4ce0-b426-2aa447c6f149",
   "metadata": {},
   "outputs": [],
   "source": [
    "# read csv\n",
    "authors = pd.read_csv('input/top_20_authors.csv')\n",
    "publications = pd.read_csv('input/publications-top_20_authors.csv', sep=',')"
   ]
  },
  {
   "cell_type": "code",
   "execution_count": 358,
   "id": "999d68a9-d2d7-44c8-9dc1-47d7670d1e46",
   "metadata": {},
   "outputs": [],
   "source": [
    "authors = pd.read_csv('input/some_authors.csv')\n",
    "publications = pd.read_csv('input/publications-some_authors.csv', sep=',')"
   ]
  },
  {
   "cell_type": "code",
   "execution_count": 359,
   "id": "ba8e2318-4351-4bcb-8ffc-5a5b4bbb04ee",
   "metadata": {},
   "outputs": [
    {
     "name": "stderr",
     "output_type": "stream",
     "text": [
      "Warning : `load_model` does not return WordVectorModel or SupervisedModel any more, but a `FastText` object which is very similar.\n"
     ]
    }
   ],
   "source": [
    "# make a dictionary containing the combined abstracts for each author\n",
    "author_publication_pairs = list(zip(publications['user_id'], publications['abstract_text']))\n",
    "texts = {author_id: [] for author_id in authors[\"id\"]}\n",
    "\n",
    "# load fastText model\n",
    "model = fasttext.load_model('lid.176.bin')\n",
    "for author_id, abstract in author_publication_pairs:\n",
    "    if abstract and isinstance(abstract, str) and re.match('^(?=.*[a-zA-Z])', abstract):\n",
    "        # predict the language\n",
    "        predictions = model.predict(abstract)\n",
    "        language = predictions[0][0].replace('__label__', '')\n",
    "        # keep only texts written in English\n",
    "        if language == 'en':\n",
    "            texts[author_id].append(abstract)\n",
    "\n",
    "for author_id, text in texts.items():\n",
    "    texts[author_id] = '\\n'.join(texts[author_id]).upper()"
   ]
  },
  {
   "cell_type": "code",
   "execution_count": 360,
   "id": "ff9e8036-1294-44bd-a8b4-73f696f990ac",
   "metadata": {},
   "outputs": [],
   "source": [
    "# make a dictionary containing the gold keywords for each author\n",
    "author_keywords_pairs = list(zip(publications['user_id'], publications['keywords']))\n",
    "gold_keywords = {author_id: {} for author_id in authors['id']}\n",
    "\n",
    "for author_id, kw in author_keywords_pairs:\n",
    "    if kw and isinstance(kw, str) and re.match('^(?=.*[a-zA-Z])', kw):\n",
    "        kw_list = re.split(', |,|; |;', kw)\n",
    "        for k in kw_list:\n",
    "            # check if the keyword appears in the abstracts\n",
    "            k = k.upper()\n",
    "            if f\" {k} \" in texts[author_id] or f\" {k}\\n\" in texts[author_id]\\\n",
    "                    or f\"\\n{k} \" in texts[author_id]:\n",
    "                if k in gold_keywords[author_id]:\n",
    "                    gold_keywords[author_id][k] += 1\n",
    "                else:\n",
    "                    gold_keywords[author_id][k] = 1"
   ]
  },
  {
   "cell_type": "code",
   "execution_count": 361,
   "id": "97409cad-5954-4348-9114-33a1277aba36",
   "metadata": {
    "scrolled": true
   },
   "outputs": [
    {
     "name": "stdout",
     "output_type": "stream",
     "text": [
      "943\n",
      "['DATABASE', 'PRODUCT', 'STRUCTURE', 'DESIGN', 'FUNCTIONAL', 'POLYHEDRAL OLIGOMERIC SILSESQUIOXANE', 'DSC', 'AFM', 'CARBON NANOTUBES']\n",
      "\n",
      "698\n",
      "['DEFORMATION', 'MITTAL STEEL', 'RESULTS', 'MADE AT', 'MICRO ALLOYED STEEL', 'MECHANICAL CHARACTERISTICS']\n",
      "\n",
      "854\n",
      "['ELEMENT', 'MADE', 'FINITE', 'ANALYSIS', 'HYPOTHESIS', 'PUNCHING', 'FORCE', 'DATA', 'PUNCHING FORCE', 'GAIT', 'DIAGNOSIS', 'REHABILITATION', 'DEVELOPMENT OF THE', 'THE HUMAN RESOURCES', 'THE LABOR MARKET', 'THE DEVELOPMENT OF', 'FEA', 'EXPERIMENTAL', 'CALCULATED', 'SHOW', 'LENGTH', 'CONTOUR', 'SIMULATION', 'DEFORM 3D', 'PREVENTION', 'SOFTWARE', 'INITIATIVES', 'CUTTING', 'DRILLING MOMENTS', 'DEFORMATION PROCEDURE', 'ENERGY LEVEL', 'LAYOUT', 'METAL STRIP', 'COLD COMPRESSING', 'AISI', 'VIRTUAL', 'CONTROL', 'INTERFACE', 'WEB', 'PROCESSING', 'INSTRUMENTATION', 'GREATER', 'PIPELINED', 'PROCESSORS', 'ALGORITHMS', 'PARALLEL', 'SYSTEMS']\n",
      "\n",
      "549\n",
      "['MANUFACTURING', 'PRICE', 'PUMP', 'PRODUCT', 'DESIGN', 'OFFERS', 'APPLYING', 'FORECAST', 'PROPOSED', 'VARIABLE', 'RELATED', 'FORECASTING', 'PROCUREMENT', 'METHODOLOGY', 'MOTOR', 'DRIVING', 'EXTERNAL', 'SYSTEM', 'FIELD', 'MAGNETIC', 'FLUID', 'PUMPS', 'MAGNET', 'DRIVE', 'COMPONENTS', 'METHOD', 'COST', 'AGRICULTURAL WORKS', 'CATEGORY', 'EQUIPMENT', 'HOEING', 'IMPOSED', 'PERCENTAGE', 'CASH', 'FLOW', 'BUDGETS', 'CHAPTERS', 'IMPLEMENTATION', 'RESPECTED', 'MAJOR', 'EXECUTION', 'MONITORING', 'BUDGET', 'PROJECT', 'MANUFACTURING COST', 'COST ESTIMATION', 'COLD PLASTIC DEFORMATION', 'MAKE', 'CONSISTS', 'PLAN', 'PLANNING', 'PROCESS', 'A MATERIAL', 'MATERIAL WILL', 'THE MATERIAL', 'DAMPING COEFFICIENT', 'TURNING CUTTING FORCES', 'THE CUTTING', 'CUTTING FORCES AND', 'THE RESEARCH']\n",
      "\n",
      "916\n",
      "['OPTIMIZATION', 'RESEARCH', 'QUALITY', 'SYSTEM', 'MANAGEMENT', 'EVALUATION', 'ATTENUATION', 'SIMULATION', 'PROCESS', 'MODELLING AND SIMULATION', 'ENVIRONMENT', 'SAFETY', 'EUROPEAN', 'EU', 'PROGRAMS', 'ACCESSION', 'SERVICES', 'INFRASTRUCTURE', 'INCLUDING', 'ROMANIA', 'DISTRIBUTION', 'PROBABILITY', 'RISK', 'TECHNICAL', 'OBSERVED', 'SECURITY', 'LEVEL', 'INSTITUTIONS', 'LABORATORY', 'MANUFACTURING ARCHITECTURE', 'PRODUCTIVITY', 'FEEDBACK', 'ENTERPRISE', 'WASTE', 'REDUCTION', 'METHODOLOGY', 'S', 'MANAGEMENT SYSTEM', 'ORGANIZATION', 'PLM', 'VIRTUAL ENTERPRISE', 'TRAINING', 'QUALITY MANAGEMENT', 'VIRTUAL ORGANIZATION', 'RISK ANALYSIS', 'WITNESS', 'EROSION', 'CAVITATIONS', 'STAINLESS STEEL', 'MODELING', 'COMPLEX', 'MOLDING', 'FLOW', 'ELEMENTARY', 'MEDIUM', 'ESTABLISHED', 'POROUS', 'INJECTION', 'RESIN', 'PUMPS']\n",
      "\n",
      "802\n",
      "['UNIVERSITY', 'MODEL', 'BASED', 'POLITEHNICA', 'PROJECT', 'TEACHING', 'VINYL ACETATE', 'LINE', 'MANAGEMENT', 'LEARNING', 'METHODS', 'CHEMISTRY', 'STAFF', 'ICT', 'PROPYLENE', 'PO', 'KINETICS', 'FILTERS', 'STUDENTS', 'INTEGRATED', 'EDUCATION', 'BUCHAREST', 'CURRICULUM', 'SESSIONS', 'MODULE', 'SYSTEM', 'SUBJECTS', 'ORGANIZED', 'DIGITAL', 'TEACH', 'SKILLS', 'RESOURCES', 'TRAINING', 'CHEMICAL ENGINEERING', 'CHLOROHYDRIN', 'TREATED', 'PROCESSES', 'SALT', 'PRODUCE', 'PRODUCED', 'PROPOSED', 'INVOLVING', 'HYDROGEN', 'HETEROGENEOUS', 'PLATINUM', 'PRESENTED', 'CARBON', 'METHANOL', 'REPORTED', 'REACTION', 'OXIDATION', 'MONOXIDE', 'CATALYST', 'OSCILLATING', 'KINETIC', 'OXIDATIONS', 'DEEP', 'PALLADIUM', 'JUICES', 'ANTIOXIDANTS']\n",
      "\n",
      "736\n",
      "['DIGITAL TECHNOLOGY', 'SOFTWARE', 'AUTOMATIC TRANSLATION', 'CRITERIA OF TEXTUALITY']\n",
      "\n",
      "367\n",
      "['ADSORPTION', 'REMOVAL', 'HEAVY METALS', 'PHOTOCATALYTIC ACTIVITY', 'ALLOYS', 'AGNPS', 'ACTIVITY', 'ASPERGILLUS', 'MICROSCOPY', 'ANTIBACTERIAL', 'AFM', 'MAGNETITE', 'SEM', 'TEM', 'LINEARITY', 'LIMIT OF DETECTION', 'INFLUENCE', 'SOLUTION', 'CONTACT', 'METAL', 'CONDITIONS', 'AQUEOUS', 'STUDY', 'MATERIAL', 'TIME', 'INVESTIGATED', 'ORDER', 'TREATMENT', 'PH', 'CHARCOAL', 'ACTIVATED', 'CR', 'SCANNING ELECTRON MICROSCOPY', 'ATOMIC FORCE MICROSCOPY (AFM)', 'CHITOSAN', 'SCANNING ELECTRON MICROSCOPY (SEM)', 'WASTEWATER', 'X-RAY DIFFRACTION (XRD)', 'EU-ETS', 'CO2 EMISSIONS ALLOCATED AND VERIFIED', 'ANOMALOUS DEPOSITION', 'THIN FILMS', 'REMOVAL FROM WATERS', 'EFFICIENCY TESTS', 'FOR CD', 'IRON NANOSTRUCTURED MATERIALS', 'NANO-ANATASE', 'CRASH', 'PRODUCED', 'REACTION', 'TRIP', 'IMPACT', 'STEELS', 'UV', 'SYNTHESIZED', 'FE', 'DEGRADATION', 'PHOTOCATALYTIC', 'CATALYSTS', 'TIO']\n",
      "\n",
      "69156\n",
      "['NATURAL LANGUAGE PROCESSING', 'TEXT COHESION', 'LEARNING', 'SEMANTIC', 'STRING KERNELS', 'NEURAL NETWORKS', 'NLP', 'FRAMEWORK', 'READERBENCH', 'COHESION NETWORK ANALYSIS', 'MASS CUSTOMIZATION', 'ANALYSIS', 'CSCL', 'STUDENTS', 'COMPONENT', 'PROVIDED', 'COHESION', 'SEMANTICS', 'ONTOLOGIES', 'COMPUTER SUPPORTED COLLABORATIVE LEARNING', 'IMPLICIT LINKS', 'CV ANALYSIS', 'TEXTUAL COMPLEXITY', 'CLASSIFICATION', 'A COMMUNICATION SCENARIO', 'A PLAYER', 'WE', 'NATURAL LANGUAGE', 'ORDER', 'DOCUMENTS', 'KNOWLEDGE', 'READERBENCH FRAMEWORK', 'CURRICULA CUSTOMIZATION', 'TOPICS OF INTEREST', 'TERMS', 'COLLABORATIVE', 'COMPREHENSION', 'ESSAY', 'PERSPECTIVE', 'READING', 'DEPTH', 'MASSIVE OPEN ONLINE COURSES', 'ONLINE COURSES', 'WORD2VEC', 'RESEARCH', 'LINKS', 'CONVERSATIONS', 'MATCHING', 'ESTABLISHED', 'UNNORMALIZED', 'WINDOW', 'IMPLICIT', 'SIMILARITY', 'UTTERANCES', 'SCORE', 'FROM WHICH', 'USED', 'ADVANCED', 'RAGE ECOSYSTEM PORTAL', 'THE READERBENCH FRAMEWORK']\n",
      "\n"
     ]
    }
   ],
   "source": [
    "for author_id in gold_keywords:\n",
    "    # sort keywords by the reversed number of occurrences\n",
    "    sorted_kw = sorted(gold_keywords[author_id].items(), key=lambda x:x[1], reverse=True)\n",
    "    gold_keywords[author_id] = [k for k, _ in sorted_kw]\n",
    "    print(author_id)\n",
    "    print(gold_keywords[author_id][:60:])\n",
    "    print()"
   ]
  },
  {
   "cell_type": "code",
   "execution_count": 362,
   "id": "633fd73e-2043-433d-a3ee-8cba931cf4d8",
   "metadata": {},
   "outputs": [
    {
     "name": "stdout",
     "output_type": "stream",
     "text": [
      "{943: {'yake': ['ATOMIC FORCE MICROSCOPY', 'SCANNING ELECTRON MICROSCOPY', 'POSS COMPOUND DIRECTLY', 'CARBON NANOTUBES COMPOSITE', 'AMINO CARBON NANOTUBES', 'NANOTUBES COMPOSITE MEMBRANES', 'UDMA MATRIX LEADS', 'FUNCTIONALIZED MULTIWALLED CARBON', 'HYBRID MATERIAL TRANSPARENCY', 'ENGINEERING DESIGN ACTIVITY', 'DEVELOPING FUNCTIONAL TAXONOMIES', 'SUPPORTING ENGINEERING DESIGN', 'COMPOUND DIRECTLY INFLUENCES', 'ELECTRONIC CONDUCTIVE CHEMICAL', 'CONDUCTIVE CHEMICAL SPECIES'], 'lda': ['STRUCTURE', 'FUNCTIONAL', 'DESIGN', 'PRODUCT', 'MEMBRANE', 'CARBON NANOTUBES', 'HYBRID', 'POSS', 'TAXONOMY', 'CONVERSION', 'SYSTEM', 'CHEMICAL', 'SPECTROSCOPY', 'MICROSCOPY', 'DSC'], 'all': ['HYBRID', 'FUNCTIONALIZED MULTIWALLED CARBON', 'DESIGN', 'AMINO CARBON NANOTUBES', 'NANOTUBES COMPOSITE MEMBRANES', 'COMPOUND DIRECTLY INFLUENCES', 'MICROSCOPY', 'SPECTROSCOPY', 'ELECTRONIC CONDUCTIVE CHEMICAL', 'TAXONOMY', 'SUPPORTING ENGINEERING DESIGN', 'CONDUCTIVE CHEMICAL SPECIES', 'DSC', 'UDMA MATRIX LEADS', 'POSS', 'PRODUCT', 'DEVELOPING FUNCTIONAL TAXONOMIES', 'ENGINEERING DESIGN ACTIVITY', 'CHEMICAL', 'CARBON NANOTUBES COMPOSITE', 'STRUCTURE', 'MEMBRANE', 'HYBRID MATERIAL TRANSPARENCY', 'SYSTEM', 'POSS COMPOUND DIRECTLY', 'CARBON NANOTUBES', 'FUNCTIONAL', 'ATOMIC FORCE MICROSCOPY', 'SCANNING ELECTRON MICROSCOPY', 'CONVERSION']}, 698: {'yake': ['MITTAL STEEL GALATI', 'POST DEFORMATION MAINTAINING', 'THERMO MECHANICAL TREATMENT', 'END DEFORMATION TEMPERATURE', 'MECHANICAL CHARACTERISTICS MODIFICATIONS', 'WELDABLE STEEL THICK', 'STEEL THICK PLATES', 'MICRO ALLOYED STEEL', 'TEST SPECIMEN MADE', 'GRADE TEST SPECIMEN', 'TECHNOLOGICAL PARAMETERS', 'DEGREE AND POST', 'MAINTAINING TIME', 'METALLURGY AND MATERIALS', 'MATERIALS SCIENCE'], 'lda': ['STEEL', 'DEFORMATION', 'MECHANICAL CHARACTERISTIC', 'PARAMETER', 'TEMPERATURE', 'DEGREE', 'STRUCTURE', 'MITTAL', 'TECHNOLOGICAL', 'TIME', 'TREATMENT', 'MECHANICAL', 'GRADE', 'PLASTIC', 'END'], 'all': ['STEEL', 'PLASTIC', 'POST DEFORMATION MAINTAINING', 'MECHANICAL', 'MECHANICAL CHARACTERISTIC', 'END DEFORMATION TEMPERATURE', 'PARAMETER', 'METALLURGY AND MATERIALS', 'STEEL THICK PLATES', 'MAINTAINING TIME', 'MITTAL STEEL GALATI', 'DEGREE AND POST', 'WELDABLE STEEL THICK', 'THERMO MECHANICAL TREATMENT', 'TECHNOLOGICAL PARAMETERS', 'DEGREE', 'TREATMENT', 'STRUCTURE', 'MICRO ALLOYED STEEL', 'END', 'MATERIALS SCIENCE', 'TEST SPECIMEN MADE', 'TIME', 'TECHNOLOGICAL', 'MECHANICAL CHARACTERISTICS MODIFICATIONS', 'MITTAL', 'DEFORMATION', 'TEMPERATURE', 'GRADE', 'GRADE TEST SPECIMEN']}, 854: {'yake': ['FINITE ELEMENT ANALYSIS', 'REDUCING SHEARING FORCES', 'CALCULATED PUNCHING FORCE', 'HUMAN RESOURCES DEVELOPMENT', 'PROGRAMME HUMAN RESOURCES', 'OPERATIONAL PROGRAMME HUMAN', 'HUMAN GAIT PATTERN', 'MADE VIRTUAL LABORATORIES', 'DEFORMATION PROCESS LEAD', 'ENERGY LEVEL REQUIRED', 'COLD COMPRESSING PROCESSES', 'SECTORAL OPERATIONAL PROGRAMME', 'OPTIMIZING HUMAN GAIT', 'GAIT ANALYSIS RESIDES', 'DATA ACQUISITION SYSTEM'], 'lda': ['FORCE', 'HUMAN', 'MATERIAL', 'PROCESS', 'DEFORMATION', 'LEVEL', 'SYSTEM', 'EXTRUSION', 'DEVELOPMENT', 'POSSIBLE', 'GEOMETRY', 'VALUE', 'SOFTWARE', 'DIAGNOSIS', 'PUNCHING'], 'all': ['LEVEL', 'VALUE', 'FINITE ELEMENT ANALYSIS', 'MATERIAL', 'MADE VIRTUAL LABORATORIES', 'CALCULATED PUNCHING FORCE', 'ENERGY LEVEL REQUIRED', 'POSSIBLE', 'PUNCHING', 'HUMAN GAIT PATTERN', 'EXTRUSION', 'DEFORMATION PROCESS LEAD', 'PROCESS', 'DEVELOPMENT', 'HUMAN', 'DATA ACQUISITION SYSTEM', 'PROGRAMME HUMAN RESOURCES', 'GAIT ANALYSIS RESIDES', 'SYSTEM', 'DIAGNOSIS', 'OPERATIONAL PROGRAMME HUMAN', 'FORCE', 'COLD COMPRESSING PROCESSES', 'GEOMETRY', 'SOFTWARE', 'DEFORMATION', 'HUMAN RESOURCES DEVELOPMENT', 'SECTORAL OPERATIONAL PROGRAMME', 'OPTIMIZING HUMAN GAIT', 'REDUCING SHEARING FORCES']}, 549: {'yake': ['MONITORING PROJECT BUDGETS', 'PROJECT BUDGET MONITORING', 'PERCENTAGE EXECUTION BUDGETS', 'EXTERNAL DRIVE MAGNET', 'COLD PLASTIC DEFORMATION', 'HUMAN RESOURCES DEVELOPMENT', 'EFFICIENT PROJECT MANAGEMENT', 'SECTORAL OPERATIONAL PROGRAM', 'MAGNETIC DRIVE PUMPS', 'PLASTIC DEFORMATION EQUIPMENTS', 'TOTAL MANUFACTURING COST', 'PRODUCT PROCUREMENT PRICE', 'INDUCED MAGNETIC FIELD', 'IMPOSED MAJOR PENALTIES', 'CLAUSES IMPOSED MAJOR'], 'lda': ['METHODOLOGY', 'PRODUCT', 'COMPONENT', 'PROJECT', 'SYSTEM', 'PUMP', 'PRICE', 'E', 'EQUIPMENT', 'PROCUREMENT PRICE', 'MODEL', 'ANALYSIS', 'M', 'COST', 'BUDGET'], 'all': ['BUDGET', 'MODEL', 'EQUIPMENT', 'MONITORING PROJECT BUDGETS', 'PRODUCT PROCUREMENT PRICE', 'EXTERNAL DRIVE MAGNET', 'EFFICIENT PROJECT MANAGEMENT', 'TOTAL MANUFACTURING COST', 'MAGNETIC DRIVE PUMPS', 'COMPONENT', 'ANALYSIS', 'PRODUCT', 'E', 'COLD PLASTIC DEFORMATION', 'INDUCED MAGNETIC FIELD', 'SECTORAL OPERATIONAL PROGRAM', 'CLAUSES IMPOSED MAJOR', 'PUMP', 'PRICE', 'IMPOSED MAJOR PENALTIES', 'PROJECT', 'COST', 'M', 'PROCUREMENT PRICE', 'PLASTIC DEFORMATION EQUIPMENTS', 'SYSTEM', 'PROJECT BUDGET MONITORING', 'METHODOLOGY', 'HUMAN RESOURCES DEVELOPMENT', 'PERCENTAGE EXECUTION BUDGETS']}, 916: {'yake': ['OHS MANAGEMENT SYSTEM', 'EUROPEAN CONFORMITY ASSESSMENT', 'VIRTUAL ENTERPRISE PROJECT', 'PROJECT RISK MANAGEMENT', 'ENVIRONMENTAL LEGISLATIVE SYSTEM', 'INTERNATIONAL MANUFACTURING PROJECT', 'MULTILATERAL RECOGNITION PROTOCOLS', 'CONFORMITY ASSESSMENT PROTOCOL', 'PERMANENTLY UPDATED BAT', 'UPDATED BAT REFERENCES', 'OHS RESPONSIBLES ACTIVITY', 'SIGNING EUROPEAN CONFORMITY', 'MANAGEMENT SYSTEM REMODELLING', 'RESIN TRANSFER MOLDING', 'PROJECT PLANNER RISK'], 'lda': ['SYSTEM', 'RISK', 'PROCESS', 'PROJECT', 'FLOW', 'MANAGEMENT SYSTEM', 'LEVEL', 'METHOD', 'PROGRAM', 'MARKET', 'METHODOLOGY', 'MANUFACTURING', 'PROBLEM', 'ARCHITECTURE', 'ACTIVITY'], 'all': ['LEVEL', 'INTERNATIONAL MANUFACTURING PROJECT', 'RESIN TRANSFER MOLDING', 'PROJECT RISK MANAGEMENT', 'PROJECT PLANNER RISK', 'EUROPEAN CONFORMITY ASSESSMENT', 'FLOW', 'ARCHITECTURE', 'OHS RESPONSIBLES ACTIVITY', 'SIGNING EUROPEAN CONFORMITY', 'VIRTUAL ENTERPRISE PROJECT', 'RISK', 'MANAGEMENT SYSTEM REMODELLING', 'PROCESS', 'MARKET', 'MANAGEMENT SYSTEM', 'PROJECT', 'PROBLEM', 'MULTILATERAL RECOGNITION PROTOCOLS', 'MANUFACTURING', 'SYSTEM', 'ENVIRONMENTAL LEGISLATIVE SYSTEM', 'UPDATED BAT REFERENCES', 'PERMANENTLY UPDATED BAT', 'CONFORMITY ASSESSMENT PROTOCOL', 'OHS MANAGEMENT SYSTEM', 'METHODOLOGY', 'ACTIVITY', 'METHOD', 'PROGRAM']}, 802: {'yake': ['CHEMICAL ENGINEERING EDUCATION', 'CHEMISTRY TEACHING STAFF', 'LEARNING MANAGEMENT SYSTEMS', 'INTERACTIVE TEACHING METHODS', 'DISTANCE EDUCATION SYSTEM', 'KINETIC MODEL', 'LEARNING CONTENT MANAGEMENT', 'FED BATCH BIOREACTORS', 'TEACHING STAFF PROFESSIONAL', 'INTEGRATED PROJECT DESIGN', 'MODERN ENGINEERING METHODS', 'PROJECT DESIGN WORK', 'MODEL', 'HETEROGENEOUS REACTOR MODEL', 'STAFF PROFESSIONAL DEVELOPMENT'], 'lda': ['CHEMICAL ENGINEERING', 'E LEARNING', 'DEEP OXIDATION', 'INFORMATION COMMUNICATION TECHNOLOGY', 'E LEARNING SYSTEM', 'GEOMETRICAL MODEL', 'SUBSTRATE CONCENTRATION', 'ELECTRICAL FILTER', 'MASS TRANSFER', 'INCOMPRESSIBLE PRECIPITATE', 'ELECTROSTATIC FILTER', 'ANTIOXIDANT FREE RADICAL SCAVENGING', 'BACTERIAL CELLULOSE MAGNETITE', 'TEACHING STAFF', 'ICT TOOL'], 'all': ['MODEL', 'ANTIOXIDANT FREE RADICAL SCAVENGING', 'CHEMICAL ENGINEERING EDUCATION', 'MASS TRANSFER', 'CHEMISTRY TEACHING STAFF', 'ICT TOOL', 'INTEGRATED PROJECT DESIGN', 'DEEP OXIDATION', 'TEACHING STAFF PROFESSIONAL', 'BACTERIAL CELLULOSE MAGNETITE', 'FED BATCH BIOREACTORS', 'E LEARNING', 'INCOMPRESSIBLE PRECIPITATE', 'INTERACTIVE TEACHING METHODS', 'CHEMICAL ENGINEERING', 'STAFF PROFESSIONAL DEVELOPMENT', 'E LEARNING SYSTEM', 'DISTANCE EDUCATION SYSTEM', 'TEACHING STAFF', 'HETEROGENEOUS REACTOR MODEL', 'LEARNING MANAGEMENT SYSTEMS', 'PROJECT DESIGN WORK', 'ELECTROSTATIC FILTER', 'INFORMATION COMMUNICATION TECHNOLOGY', 'LEARNING CONTENT MANAGEMENT', 'KINETIC MODEL', 'ELECTRICAL FILTER', 'GEOMETRICAL MODEL', 'SUBSTRATE CONCENTRATION', 'MODERN ENGINEERING METHODS']}, 736: {'yake': ['DIGITAL TECHNOLOGIES INTEGRATION', 'TEACH SPECIFIC COMPETENCES', 'MEDIATED LEARNING MODEL', 'FUTURE SOCIAL ACTOR', 'CULTURAL GRIDS SPECIFIC', 'DISCURSIVE COMPETENCES PUT', 'LEARNING MODEL MEANT', 'TECHNICAL KNOWLEDGE PERMITS', 'DEVELOPED TECHNICAL KNOWLEDGE', 'AUTOMATIC TRANSLATION', 'SPECIFIC PURPOSES', 'FUTURE ENGINEERS', 'INTERCULTURAL COMPETENCES', 'PROFESSIONAL COMMUNICATION', 'TRANSLATION CARRIED'], 'lda': ['COMPETENCE', 'SPECIFIC', 'TRANSLATION', 'TECHNOLOGY', 'LANGUAGE', 'COMMUNICATION', 'INTERCULTURAL', 'AUTOMATIC TRANSLATION', 'MEAN', 'ACTOR', 'LINGUISTIC', 'INTEGRATION', 'DIGITAL TECHNOLOGY', 'LANGUAGE COURSE', 'FUTURE ENGINEER'], 'all': ['LEARNING MODEL MEANT', 'LANGUAGE', 'MEDIATED LEARNING MODEL', 'COMPETENCE', 'TRANSLATION CARRIED', 'INTERCULTURAL COMPETENCES', 'TECHNOLOGY', 'LANGUAGE COURSE', 'SPECIFIC', 'DISCURSIVE COMPETENCES PUT', 'PROFESSIONAL COMMUNICATION', 'INTEGRATION', 'DIGITAL TECHNOLOGIES INTEGRATION', 'AUTOMATIC TRANSLATION', 'COMMUNICATION', 'TRANSLATION', 'FUTURE ENGINEER', 'TEACH SPECIFIC COMPETENCES', 'DIGITAL TECHNOLOGY', 'TECHNICAL KNOWLEDGE PERMITS', 'ACTOR', 'MEAN', 'FUTURE ENGINEERS', 'INTERCULTURAL', 'DEVELOPED TECHNICAL KNOWLEDGE', 'LINGUISTIC', 'SPECIFIC PURPOSES', 'FUTURE SOCIAL ACTOR', 'CULTURAL GRIDS SPECIFIC']}, 367: {'yake': ['SCANNING ELECTRON MICROSCOPY', 'ATOMIC FORCE MICROSCOPY', 'MAGNETIC NANOIRON OXIDES', 'CHOOSING ALLOYING ELEMENTS', 'RAY DIFFRACTION', 'IRON OXIDE NANOPARTICLES', 'HEAVY METALS REMOVAL', 'CONFER HIGHER BIOCOMPATIBILITY', 'LIMIT OF DETECTION', 'COBALT ALLOYS', 'POWDER SIZE CLASSIFICATIONS', 'SEM', 'ROSE LEAF EXTRACT', 'ALLOYS INCLUDE ELEMENTS', 'MICROSCOPY'], 'lda': ['HEAVY METAL', 'X RAY DIFFRACTION XRD', 'IRON OXIDE NANOPARTICLE', 'ELECTRON MICROSCOPY SEM', 'WATER TREATMENT', 'AQUEOUS SOLUTION', 'CR VI', 'METHYLENE BLUE', 'ATOMIC FORCE MICROSCOPY', 'FILM NANOWIRE', 'ELECTRON MICROSCOPY SEM ENERGY', 'ION CS NANOMATERIAL', 'ION CS', 'TI SHEET', 'NAOH SOLUTION'], 'all': ['X RAY DIFFRACTION XRD', 'CONFER HIGHER BIOCOMPATIBILITY', 'IRON OXIDE NANOPARTICLE', 'MICROSCOPY', 'ROSE LEAF EXTRACT', 'CHOOSING ALLOYING ELEMENTS', 'WATER TREATMENT', 'ELECTRON MICROSCOPY SEM ENERGY', 'CR VI', 'IRON OXIDE NANOPARTICLES', 'METHYLENE BLUE', 'HEAVY METALS REMOVAL', 'NAOH SOLUTION', 'LIMIT OF DETECTION', 'HEAVY METAL', 'ION CS NANOMATERIAL', 'TI SHEET', 'FILM NANOWIRE', 'SEM', 'ELECTRON MICROSCOPY SEM', 'ION CS', 'RAY DIFFRACTION', 'ATOMIC FORCE MICROSCOPY', 'SCANNING ELECTRON MICROSCOPY', 'COBALT ALLOYS', 'AQUEOUS SOLUTION', 'MAGNETIC NANOIRON OXIDES', 'POWDER SIZE CLASSIFICATIONS', 'ALLOYS INCLUDE ELEMENTS']}, 69156: {'yake': ['NATURAL LANGUAGE PROCESSING', 'SUPPORTED COLLABORATIVE LEARNING', 'ADVANCED NATURAL LANGUAGE', 'COHESION NETWORK ANALYSIS', 'LANGUAGE PROCESSING TECHNIQUES', 'COMPUTER SUPPORTED COLLABORATIVE', 'COLLABORATIVE LEARNING TOOLS', 'RAGE ECOSYSTEM PORTAL', 'LEARNING MANAGEMENT SYSTEMS', 'PROCESSING TOOL READER', 'PROCESSING SEMANTIC MODELS', 'CSCL CHAT CONVERSATIONS', 'GAME LEARNING ENVIRONMENT', 'KNOWLEDGE PROCESSING SYSTEMS', 'SEMANTIC ANNOTATION COMPONENT'], 'lda': ['COMPUTER SUPPORTED COLLABORATIVE LEARNING', 'CHAT CONVERSATION', 'NATURAL LANGUAGE PROCESSING NLP', 'NATURAL LANGUAGE', 'NEURAL NETWORK', 'COHESION NETWORK ANALYSIS', 'READERBENCH FRAMEWORK', 'RAGE ECOSYSTEM', 'NATURAL LANGUAGE PROCESSING', 'IMPLICIT LINK', 'MULTI PARTICIPANT', 'ADVANCED NATURAL LANGUAGE PROCESSING', 'SEMANTIC SIMILARITY', 'FILTERING CRITERION', 'SEMANTIC ANNOTATION'], 'all': ['PROCESSING SEMANTIC MODELS', 'COMPUTER SUPPORTED COLLABORATIVE', 'ADVANCED NATURAL LANGUAGE PROCESSING', 'RAGE ECOSYSTEM', 'NATURAL LANGUAGE', 'FILTERING CRITERION', 'ADVANCED NATURAL LANGUAGE', 'COLLABORATIVE LEARNING TOOLS', 'RAGE ECOSYSTEM PORTAL', 'PROCESSING TOOL READER', 'SEMANTIC ANNOTATION COMPONENT', 'GAME LEARNING ENVIRONMENT', 'LANGUAGE PROCESSING TECHNIQUES', 'IMPLICIT LINK', 'COHESION NETWORK ANALYSIS', 'MULTI PARTICIPANT', 'KNOWLEDGE PROCESSING SYSTEMS', 'SUPPORTED COLLABORATIVE LEARNING', 'CSCL CHAT CONVERSATIONS', 'LEARNING MANAGEMENT SYSTEMS', 'READERBENCH FRAMEWORK', 'NEURAL NETWORK', 'SEMANTIC SIMILARITY', 'NATURAL LANGUAGE PROCESSING NLP', 'SEMANTIC ANNOTATION', 'NATURAL LANGUAGE PROCESSING', 'CHAT CONVERSATION', 'COMPUTER SUPPORTED COLLABORATIVE LEARNING']}}\n"
     ]
    }
   ],
   "source": [
    "# read the output of my keyword extraction program\n",
    "results = pd.read_csv('results/some_authors.csv')\n",
    "results_list = list(zip(results['ID'], results['keywords YAKE'], results['keywords LDA']))\n",
    "my_keywords = {author_id: {} for author_id, _, _ in results_list}\n",
    "\n",
    "for author_id, kw_yake, kw_lda in results_list:\n",
    "    my_keywords[author_id]['yake'] = kw_yake.split('; ')\n",
    "    my_keywords[author_id]['lda'] = kw_lda.split('; ')\n",
    "    my_keywords[author_id]['all'] = list(set(my_keywords[author_id]['yake'] + my_keywords[author_id]['lda']))\n",
    "\n",
    "print(my_keywords)"
   ]
  },
  {
   "cell_type": "markdown",
   "id": "9d031ac7-3830-4014-905b-490063e7841e",
   "metadata": {},
   "source": [
    "YAKE + LDA"
   ]
  },
  {
   "cell_type": "code",
   "execution_count": 363,
   "id": "7529adb6-b60a-41c9-ba39-ea2e86a5f218",
   "metadata": {
    "scrolled": true
   },
   "outputs": [
    {
     "name": "stdout",
     "output_type": "stream",
     "text": [
      "tp: 43 fp: 223 fn: 323\n"
     ]
    }
   ],
   "source": [
    "tp = 0\n",
    "fp = 0\n",
    "fn = 0\n",
    "k = 60\n",
    "\n",
    "for author_id in results['ID']:\n",
    "    extracted_kw = my_keywords[author_id]['all']\n",
    "    gold_kw = gold_keywords[author_id][:k:]\n",
    "    extracted_count += len(extracted_kw)\n",
    "    gold_count += len(gold_kw)\n",
    "\n",
    "    for kw in extracted_kw:\n",
    "        if kw in gold_kw:\n",
    "            tp += 1\n",
    "        else:\n",
    "            fp += 1\n",
    "\n",
    "    for kw in gold_kw:\n",
    "        if kw not in extracted_kw:\n",
    "            fn += 1\n",
    "\n",
    "print(f\"tp: {tp} fp: {fp} fn: {fn}\")"
   ]
  },
  {
   "cell_type": "code",
   "execution_count": 364,
   "id": "15bcce21-c841-49ec-a9fa-115b865b98ff",
   "metadata": {},
   "outputs": [
    {
     "name": "stdout",
     "output_type": "stream",
     "text": [
      "0.16165413533834586\n"
     ]
    }
   ],
   "source": [
    "precision = tp / (tp + fp)\n",
    "print(precision)"
   ]
  },
  {
   "cell_type": "code",
   "execution_count": 365,
   "id": "5192b2b4-49e9-4755-ade8-12af8ddd6e25",
   "metadata": {},
   "outputs": [
    {
     "name": "stdout",
     "output_type": "stream",
     "text": [
      "0.11748633879781421\n"
     ]
    }
   ],
   "source": [
    "recall = tp / (tp + fn)\n",
    "print(recall)"
   ]
  },
  {
   "cell_type": "markdown",
   "id": "9c14e467-818a-47f1-a461-89589b6bc5cc",
   "metadata": {},
   "source": [
    "YAKE"
   ]
  },
  {
   "cell_type": "code",
   "execution_count": 366,
   "id": "2e2a3306-8a2a-490e-b582-bfa392500941",
   "metadata": {},
   "outputs": [
    {
     "name": "stdout",
     "output_type": "stream",
     "text": [
      "tp: 11 fp: 124 fn: 355\n"
     ]
    }
   ],
   "source": [
    "tp = 0\n",
    "fp = 0\n",
    "fn = 0\n",
    "k = 60\n",
    "\n",
    "for author_id in results['ID']:\n",
    "    extracted_kw = my_keywords[author_id]['yake']\n",
    "    gold_kw = gold_keywords[author_id][:k:]\n",
    "    extracted_count += len(extracted_kw)\n",
    "    gold_count += len(gold_kw)\n",
    "\n",
    "    for kw in extracted_kw:\n",
    "        if kw in gold_kw:\n",
    "            tp += 1\n",
    "        else:\n",
    "            fp += 1\n",
    "\n",
    "    for kw in gold_kw:\n",
    "        if kw not in extracted_kw:\n",
    "            fn += 1\n",
    "\n",
    "print(f\"tp: {tp} fp: {fp} fn: {fn}\")"
   ]
  },
  {
   "cell_type": "code",
   "execution_count": 367,
   "id": "c26e21bc-6cef-481b-a94b-233d5813c914",
   "metadata": {},
   "outputs": [
    {
     "name": "stdout",
     "output_type": "stream",
     "text": [
      "0.08148148148148149\n"
     ]
    }
   ],
   "source": [
    "precision = tp / (tp + fp)\n",
    "print(precision)"
   ]
  },
  {
   "cell_type": "code",
   "execution_count": 368,
   "id": "299e3f5d-2dd4-4c45-95ae-9ddf242e033e",
   "metadata": {},
   "outputs": [
    {
     "name": "stdout",
     "output_type": "stream",
     "text": [
      "0.030054644808743168\n"
     ]
    }
   ],
   "source": [
    "recall = tp / (tp + fn)\n",
    "print(recall)"
   ]
  },
  {
   "cell_type": "markdown",
   "id": "25d9751b-ec2a-4326-8aad-da39c9c4c738",
   "metadata": {},
   "source": [
    "LDA"
   ]
  },
  {
   "cell_type": "code",
   "execution_count": 369,
   "id": "baaf889f-8bcb-4400-b4f5-e435892022e2",
   "metadata": {},
   "outputs": [
    {
     "name": "stdout",
     "output_type": "stream",
     "text": [
      "tp: 35 fp: 100 fn: 331\n"
     ]
    }
   ],
   "source": [
    "tp = 0\n",
    "fp = 0\n",
    "fn = 0\n",
    "k = 60\n",
    "\n",
    "for author_id in results['ID']:\n",
    "    extracted_kw = my_keywords[author_id]['lda']\n",
    "    gold_kw = gold_keywords[author_id][:k:]\n",
    "    extracted_count += len(extracted_kw)\n",
    "    gold_count += len(gold_kw)\n",
    "\n",
    "    for kw in extracted_kw:\n",
    "        if kw in gold_kw:\n",
    "            tp += 1\n",
    "        else:\n",
    "            fp += 1\n",
    "\n",
    "    for kw in gold_kw:\n",
    "        if kw not in extracted_kw:\n",
    "            fn += 1\n",
    "\n",
    "print(f\"tp: {tp} fp: {fp} fn: {fn}\")"
   ]
  },
  {
   "cell_type": "code",
   "execution_count": 370,
   "id": "e95beb1f-6d75-461c-8659-5423aff222a8",
   "metadata": {},
   "outputs": [
    {
     "name": "stdout",
     "output_type": "stream",
     "text": [
      "0.25925925925925924\n"
     ]
    }
   ],
   "source": [
    "precision = tp / (tp + fp)\n",
    "print(precision)"
   ]
  },
  {
   "cell_type": "code",
   "execution_count": 371,
   "id": "d9699f12-4d7f-41dc-821c-7ec94ceee554",
   "metadata": {},
   "outputs": [
    {
     "name": "stdout",
     "output_type": "stream",
     "text": [
      "0.09562841530054644\n"
     ]
    }
   ],
   "source": [
    "recall = tp / (tp + fn)\n",
    "print(recall)"
   ]
  },
  {
   "cell_type": "code",
   "execution_count": null,
   "id": "4865817c-23d6-4e27-9f75-5dcfac5caf7d",
   "metadata": {},
   "outputs": [],
   "source": []
  }
 ],
 "metadata": {
  "kernelspec": {
   "display_name": "Python 3 (ipykernel)",
   "language": "python",
   "name": "python3"
  },
  "language_info": {
   "codemirror_mode": {
    "name": "ipython",
    "version": 3
   },
   "file_extension": ".py",
   "mimetype": "text/x-python",
   "name": "python",
   "nbconvert_exporter": "python",
   "pygments_lexer": "ipython3",
   "version": "3.9.0"
  }
 },
 "nbformat": 4,
 "nbformat_minor": 5
}
