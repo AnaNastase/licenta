{
 "cells": [
  {
   "cell_type": "code",
   "execution_count": 1394,
   "id": "184c0c36-046b-408e-af72-815a97190459",
   "metadata": {},
   "outputs": [],
   "source": [
    "import pandas as pd\n",
    "import matplotlib.pyplot as plt\n",
    "import seaborn as sns\n",
    "sns.set()\n",
    "import spacy\n",
    "from spacy import displacy\n",
    "from spacy.language import Language\n",
    "import pyLDAvis.gensim\n",
    "from gensim.corpora.dictionary import Dictionary\n",
    "from gensim.models.phrases import Phrases, Phraser\n",
    "from gensim.models import LdaMulticore\n",
    "from gensim.models import LdaModel\n",
    "from gensim.models.coherencemodel import CoherenceModel\n",
    "import yake\n",
    "import fasttext\n",
    "import re"
   ]
  },
  {
   "cell_type": "code",
   "execution_count": 1239,
   "id": "8c1abff3-4ab1-41c0-a7ab-41e6d12c0133",
   "metadata": {},
   "outputs": [],
   "source": [
    "# read csv\n",
    "authors = pd.read_csv('input/top_20_authors.csv')\n",
    "publications = pd.read_csv('input/publications-top_20_authors.csv', sep=',')"
   ]
  },
  {
   "cell_type": "code",
   "execution_count": 1356,
   "id": "b59150d8-c471-436f-b41f-3076b37c208f",
   "metadata": {},
   "outputs": [],
   "source": [
    "authors = pd.read_csv('input/some_authors.csv')\n",
    "publications = pd.read_csv('input/publications-some_authors.csv', sep=',')"
   ]
  },
  {
   "cell_type": "code",
   "execution_count": 1357,
   "id": "8f725448-49d4-451d-8590-888e07082835",
   "metadata": {
    "scrolled": true
   },
   "outputs": [
    {
     "name": "stderr",
     "output_type": "stream",
     "text": [
      "Warning : `load_model` does not return WordVectorModel or SupervisedModel any more, but a `FastText` object which is very similar.\n"
     ]
    }
   ],
   "source": [
    "# make a dictionary containing the combined abstracts for each author\n",
    "author_publication_pairs = list(zip(publications['user_id'], publications['abstract_text']))\n",
    "texts = {author_id: [] for author_id in authors[\"id\"]}\n",
    "\n",
    "# load fastText model\n",
    "model = fasttext.load_model('lid.176.bin')\n",
    "for author_id, abstract in author_publication_pairs:\n",
    "    if abstract and isinstance(abstract, str) and re.match('^(?=.*[a-zA-Z])', abstract):\n",
    "        # predict the language\n",
    "        predictions = model.predict(abstract)\n",
    "        language = predictions[0][0].replace('__label__', '')\n",
    "        # keep only texts written in English\n",
    "        if language == 'en':\n",
    "            texts[author_id].append(abstract)"
   ]
  },
  {
   "cell_type": "code",
   "execution_count": 1249,
   "id": "ae1c8504-e92c-4ea9-8a54-7d5de6a11637",
   "metadata": {},
   "outputs": [],
   "source": [
    "stop_words = ['abstract', 'al', 'amount', 'approach', 'article', 'available', 'base', 'based', 'benefit',\n",
    "              'bucharest',\n",
    "              'case', 'category', 'condition', 'conference', 'context', 'copyright', 'datum', 'demonstrate',\n",
    "              'demonstrates', 'demonstrated',\n",
    "              'different', 'difficult', 'et', 'experiment', 'experimental', 'faculty', 'helpful', 'high',\n",
    "              'ieee', 'importance', 'important', 'inconvenience', 'interest', 'interested', 'interests', 'jat',\n",
    "              'jats', 'laboratory',\n",
    "              'main', 'multiple', 'new', 'obtain', 'obtained', 'obtains', 'old', 'order', 'organization', 'paper',\n",
    "              'people', 'policy', 'politehnica', 'polytechnic',\n",
    "              'present', 'presents', 'presented', 'privacy', 'professor', 'propose', 'proposes', 'proposed',\n",
    "              'quality', 'range', 'ranges', 'real',\n",
    "              'recent', 'research', 'researcher', 'result', 'scale', 'show', 'shows', 'showed', 'student', 'study',\n",
    "              'subject', 'studies', 'studied', 'task',\n",
    "              'teacher', 'term', 'text', 'title', 'type', 'unavailable', 'university', 'useful',\n",
    "              'workshop']"
   ]
  },
  {
   "cell_type": "markdown",
   "id": "4bd89355-9868-42e9-8038-4f9e98a776f8",
   "metadata": {},
   "source": [
    "EXTRACT KEYWORDS/KEYPHRASES WITH YAKE"
   ]
  },
  {
   "cell_type": "code",
   "execution_count": 1391,
   "id": "de6e9ee2-2038-41bc-827e-bbcacc0c78d0",
   "metadata": {},
   "outputs": [],
   "source": [
    "nlp = spacy.load('en_core_web_lg', exclude=['tok2vec', 'tagger', 'parser', 'attribute_ruler', 'lemmatizer'])"
   ]
  },
  {
   "cell_type": "code",
   "execution_count": 1389,
   "id": "bf070d46-dea1-4cdf-a746-cb91d3b3017d",
   "metadata": {},
   "outputs": [],
   "source": [
    "nlp = spacy.load('en_core_web_trf', exclude=['tok2vec', 'tagger', 'parser', 'attribute_ruler', 'lemmatizer'])"
   ]
  },
  {
   "cell_type": "code",
   "execution_count": 1376,
   "id": "744c19d2-fadd-416b-86dc-9af44d6ba468",
   "metadata": {},
   "outputs": [],
   "source": [
    "abstract_list = texts[549]"
   ]
  },
  {
   "cell_type": "code",
   "execution_count": 1378,
   "id": "2b131469-5d78-45a3-a08a-4e0526b4ef32",
   "metadata": {},
   "outputs": [],
   "source": [
    "# remove abstracts that contain mostly person and organization names\n",
    "clean_abstract_list = []\n",
    "\n",
    "for abstract in abstract_list:\n",
    "    nlp.max_length = len(abstract) + 1000\n",
    "    doc = nlp(abstract)\n",
    "    person_orgs_count = 0\n",
    "    other_words_count = 0\n",
    "\n",
    "    for token in doc:\n",
    "        if token.ent_type_ == 'PERSON' or token.ent_type_ == 'ORG':\n",
    "            person_orgs_count += 1\n",
    "        elif token.is_alpha:\n",
    "            other_words_count += 1\n",
    "\n",
    "    if person_orgs_count < other_words_count:\n",
    "        clean_abstract_list.append(abstract)"
   ]
  },
  {
   "cell_type": "code",
   "execution_count": 1379,
   "id": "922775c8-5591-4f45-b695-f782c433d80b",
   "metadata": {},
   "outputs": [],
   "source": [
    "# concatenate the abstracts into a single string\n",
    "text = '\\n'.join(clean_abstract_list)"
   ]
  },
  {
   "cell_type": "code",
   "execution_count": 1380,
   "id": "0744f3f1-403b-4be8-96c1-515c76a6f5c6",
   "metadata": {},
   "outputs": [],
   "source": [
    "from time import perf_counter"
   ]
  },
  {
   "cell_type": "code",
   "execution_count": 1393,
   "id": "734ccaf0-e747-4250-a984-176215d25c5d",
   "metadata": {},
   "outputs": [
    {
     "name": "stdout",
     "output_type": "stream",
     "text": [
      "0.10986020002746955\n"
     ]
    }
   ],
   "source": [
    "# remove some named entities\n",
    "t1_start = perf_counter()\n",
    "nlp.max_length = len(text) + 1000\n",
    "doc = nlp(text)\n",
    "remove_entities = ['PERSON', 'NORP', 'FAC', 'GPE', 'LOC', 'DATE', 'TIME', 'PERCENT', 'MONEY',\n",
    "                   'QUANTITY', 'CARDINAL', 'ORDINAL']\n",
    "\n",
    "transformed_text = ' '.join([token.text for token in doc if token.ent_type_ not in remove_entities])\n",
    "t1_stop = perf_counter()\n",
    "print(t1_stop - t1_start)"
   ]
  },
  {
   "cell_type": "code",
   "execution_count": 1382,
   "id": "0425d20e-4646-4d08-b0a1-35b791136696",
   "metadata": {},
   "outputs": [
    {
     "name": "stdout",
     "output_type": "stream",
     "text": [
      "monitoring project budgets\n",
      "project budget monitoring\n",
      "percentage execution budgets\n",
      "external drive magnet\n",
      "cold plastic deformation\n",
      "Human Resources Development\n",
      "efficient project management\n",
      "Sectoral Operational Program\n",
      "magnetic drive pumps\n",
      "plastic deformation equipments\n",
      "total manufacturing cost\n",
      "product procurement price\n",
      "induced magnetic field\n",
      "imposed major penalties\n",
      "clauses imposed major\n"
     ]
    }
   ],
   "source": [
    "# set parameters for yake keyword extractor\n",
    "max_ngram = 3\n",
    "deduplication_threshold = 0.5\n",
    "keywords_nr = 15\n",
    "windows_size = 1\n",
    "\n",
    "kw_extractor = yake.KeywordExtractor(lan=\"en\", n=max_ngram, dedupLim=deduplication_threshold,\n",
    "                                     top=keywords_nr, windowsSize=windows_size)\n",
    "# add custom stop words to the default set from yake\n",
    "kw_extractor.stopword_set.update(set(stop_words))\n",
    "\n",
    "# extract keywords\n",
    "keywords = kw_extractor.extract_keywords(transformed_text)\n",
    "for kw, _ in keywords:\n",
    "    print(kw)"
   ]
  },
  {
   "cell_type": "code",
   "execution_count": 1383,
   "id": "5bf4557e-9e36-45ad-a1f4-dcacf3d8c95f",
   "metadata": {
    "scrolled": true
   },
   "outputs": [
    {
     "name": "stdout",
     "output_type": "stream",
     "text": [
      "35\n",
      "Agricultural ORG\n",
      "the ORG\n",
      "Sectoral ORG\n",
      "Operational ORG\n",
      "Program ORG\n",
      "for ORG\n",
      "Human ORG\n",
      "Resources ORG\n",
      "Development ORG\n",
      "National ORG\n",
      "Institute ORG\n",
      "of ORG\n",
      "Optoelectronics ORG\n",
      "TiAlN ORG\n",
      "PVD ORG\n",
      "CATIA ORG\n"
     ]
    }
   ],
   "source": [
    "print(len(doc.ents))\n",
    "# print(doc.ents)\n",
    "for tok in doc:\n",
    "    if tok.ent_type_ == \"ORG\":\n",
    "        print(tok.text + \" \" + tok.ent_type_)"
   ]
  },
  {
   "cell_type": "code",
   "execution_count": 1384,
   "id": "d11cb44e-f596-4fc2-a572-0eadf5f4e608",
   "metadata": {},
   "outputs": [
    {
     "name": "stdout",
     "output_type": "stream",
     "text": [
      "Agricultural ORG\n",
      "the Sectoral Operational Program for Human Resources Development ORG\n",
      "National Institute of Optoelectronics ORG\n",
      "TiAlN PVD ORG\n",
      "CATIA ORG\n"
     ]
    }
   ],
   "source": [
    "org_count = 0\n",
    "for ent in doc.ents:\n",
    "    if ent.label_ == 'ORG':\n",
    "        print(ent.text + ' ' + ent.label_)\n",
    "        org_count += 1"
   ]
  },
  {
   "cell_type": "code",
   "execution_count": 1385,
   "id": "12f52912-269d-45bb-86fc-46a39ddd9b23",
   "metadata": {},
   "outputs": [
    {
     "name": "stdout",
     "output_type": "stream",
     "text": [
      "5\n"
     ]
    }
   ],
   "source": [
    "print(org_count)"
   ]
  },
  {
   "cell_type": "code",
   "execution_count": 1386,
   "id": "e3a2ec62-306f-4e99-98b6-dd823836baf1",
   "metadata": {
    "scrolled": true
   },
   "outputs": [],
   "source": [
    "for ent in doc.ents:\n",
    "    if ent.label_ == 'ORG' and ('Big Data' in ent.text or 'Cloud' in ent.text):\n",
    "        print(ent.text + ' ' + ent.label_)"
   ]
  },
  {
   "cell_type": "code",
   "execution_count": 1387,
   "id": "4a4bbfda-ac77-4916-a005-10c131ff414d",
   "metadata": {
    "scrolled": true
   },
   "outputs": [
    {
     "name": "stderr",
     "output_type": "stream",
     "text": [
      "c:\\users\\ana_maria.nastase\\appdata\\local\\programs\\python\\python39\\lib\\site-packages\\spacy\\displacy\\__init__.py:69: DeprecationWarning: Importing display from IPython.core.display is deprecated since IPython 7.14, please import from IPython display\n",
      "  from IPython.core.display import HTML, display\n"
     ]
    },
    {
     "data": {
      "text/html": [
       "<span class=\"tex2jax_ignore\"><div class=\"entities\" style=\"line-height: 2.5; direction: ltr\">The paper presents the current stage of constructive-technological and functional researches on magnetic drive pumps. This type of pump is provided with a closed system for driving and pumping the fluid. It is envisaged that the rotation of the motor shaft is done by induction of a magnetic field without external drive from an electric motor, as in the case of classical hydraulic pumps. The studied pumps use a construction system containing an external drive magnet and an internal magnet that is connected to an impeller that moves the fluid. The drive magnet and the inner magnet are separated by a housing, resulting in less sealing. Driving the pump with the induced magnetic field helps in avoiding fluid leakage and in performance optimization.<br>&lt;\n",
       "<mark class=\"entity\" style=\"background: #aa9cfc; padding: 0.45em 0.6em; margin: 0 0.25em; line-height: 1; border-radius: 0.35em;\">\n",
       "    jats\n",
       "    <span style=\"font-size: 0.8em; font-weight: bold; line-height: 1; border-radius: 0.35em; vertical-align: middle; margin-left: 0.5rem\">PERSON</span>\n",
       "</mark>\n",
       ":p&gt;The paper presents a method for analysing the variance of manufacturing cost and price components using a scenario method. The analysis model is based on the usual relations for calculus of the total manufacturing cost and final price of the product, by integrating relationships that take into account complex dependencies between different components of a product cost and selling price.&lt;/jats:p&gt;<br>\n",
       "<mark class=\"entity\" style=\"background: #7aecec; padding: 0.45em 0.6em; margin: 0 0.25em; line-height: 1; border-radius: 0.35em;\">\n",
       "    Agricultural\n",
       "    <span style=\"font-size: 0.8em; font-weight: bold; line-height: 1; border-radius: 0.35em; vertical-align: middle; margin-left: 0.5rem\">ORG</span>\n",
       "</mark>\n",
       " works by their effects on physical, chemical and biological properties of soil represent \n",
       "<mark class=\"entity\" style=\"background: #e4e7d2; padding: 0.45em 0.6em; margin: 0 0.25em; line-height: 1; border-radius: 0.35em;\">\n",
       "    one\n",
       "    <span style=\"font-size: 0.8em; font-weight: bold; line-height: 1; border-radius: 0.35em; vertical-align: middle; margin-left: 0.5rem\">CARDINAL</span>\n",
       "</mark>\n",
       " of the main methods of increasing the production. Maintenance works are an important category of agricultural works which have to be performed for obtaining high productivity crops. The paper presents the components and operating system of an experimental model of such intelligent equipment aiming to hoe between and in hoeing hoeing Subject Category: Techniques, Methodologies and Equipment<br>The issue of monitoring project budgets is a major one when discussing about efficient project management. Thus, if the implementation of the project implies that the budget allocated to some activities has been underestimated or overestimated, then we have to deal with the question of a budgetary reallocation between the budget chapters of the project budget. Therefore, during the implementation of a project, project budget monitoring has to be made permanently through the project's cash-flow simulations and analyses. This paper has been developed within a project funded by \n",
       "<mark class=\"entity\" style=\"background: #7aecec; padding: 0.45em 0.6em; margin: 0 0.25em; line-height: 1; border-radius: 0.35em;\">\n",
       "    the Sectoral Operational Program for Human Resources Development\n",
       "    <span style=\"font-size: 0.8em; font-weight: bold; line-height: 1; border-radius: 0.35em; vertical-align: middle; margin-left: 0.5rem\">ORG</span>\n",
       "</mark>\n",
       ", a project implemented in partnership between \n",
       "<mark class=\"entity\" style=\"background: #e4e7d2; padding: 0.45em 0.6em; margin: 0 0.25em; line-height: 1; border-radius: 0.35em;\">\n",
       "    two\n",
       "    <span style=\"font-size: 0.8em; font-weight: bold; line-height: 1; border-radius: 0.35em; vertical-align: middle; margin-left: 0.5rem\">CARDINAL</span>\n",
       "</mark>\n",
       " universities in \n",
       "<mark class=\"entity\" style=\"background: #feca74; padding: 0.45em 0.6em; margin: 0 0.25em; line-height: 1; border-radius: 0.35em;\">\n",
       "    Romania\n",
       "    <span style=\"font-size: 0.8em; font-weight: bold; line-height: 1; border-radius: 0.35em; vertical-align: middle; margin-left: 0.5rem\">GPE</span>\n",
       "</mark>\n",
       ", over a period of \n",
       "<mark class=\"entity\" style=\"background: #bfe1d9; padding: 0.45em 0.6em; margin: 0 0.25em; line-height: 1; border-radius: 0.35em;\">\n",
       "    18 months\n",
       "    <span style=\"font-size: 0.8em; font-weight: bold; line-height: 1; border-radius: 0.35em; vertical-align: middle; margin-left: 0.5rem\">DATE</span>\n",
       "</mark>\n",
       ". \n",
       "<mark class=\"entity\" style=\"background: #e4e7d2; padding: 0.45em 0.6em; margin: 0 0.25em; line-height: 1; border-radius: 0.35em;\">\n",
       "    One\n",
       "    <span style=\"font-size: 0.8em; font-weight: bold; line-height: 1; border-radius: 0.35em; vertical-align: middle; margin-left: 0.5rem\">CARDINAL</span>\n",
       "</mark>\n",
       " of the major responsibilities of the project manager was the ongoing monitoring of the budget because the contractual clauses imposed major penalties if the percentage ratios between the main budget chapters of the project were not respected during the execution phase. The permanent monitoring of the project's cash flow resulted in a budget execution of \n",
       "<mark class=\"entity\" style=\"background: #e4e7d2; padding: 0.45em 0.6em; margin: 0 0.25em; line-height: 1; border-radius: 0.35em;\">\n",
       "    approximately 96\\%\n",
       "    <span style=\"font-size: 0.8em; font-weight: bold; line-height: 1; border-radius: 0.35em; vertical-align: middle; margin-left: 0.5rem\">CARDINAL</span>\n",
       "</mark>\n",
       " and the percentage execution budgets of the project to be respected among the categories of budget expenditures were within the limits imposed by the financing contract.<br>The cost estimation associated to components of cold plastic deformation equipments is facing with a number of complex influencing factors. This study develops a methodology to estimate the cost/purchasing price of the normalized components intended for use in cold plastic deformation equipments, using the regression analysis. The methodology is exemplified based on a case study.<br>&lt;\n",
       "<mark class=\"entity\" style=\"background: #aa9cfc; padding: 0.45em 0.6em; margin: 0 0.25em; line-height: 1; border-radius: 0.35em;\">\n",
       "    jats\n",
       "    <span style=\"font-size: 0.8em; font-weight: bold; line-height: 1; border-radius: 0.35em; vertical-align: middle; margin-left: 0.5rem\">PERSON</span>\n",
       "</mark>\n",
       ":p&gt;The process of the product design consists in a plan for the product, its components and subassemblies. To obtain the physical entity building a manufacturing plan is needed. The activity of developing such a manufacturing plan is name process planning. Process planning is the relation between design and manufacturing. Process planning consists in defining the sequence of the steps that should be taken to make the product. Process planning is referring to the engineering and technological issues of how to make \n",
       "<mark class=\"entity\" style=\"background: #c887fb; padding: 0.45em 0.6em; margin: 0 0.25em; line-height: 1; border-radius: 0.35em;\">\n",
       "    it.&lt;/jats\n",
       "    <span style=\"font-size: 0.8em; font-weight: bold; line-height: 1; border-radius: 0.35em; vertical-align: middle; margin-left: 0.5rem\">NORP</span>\n",
       "</mark>\n",
       ":p&gt;<br>The tooth los s due to caries, periodontal dis eas e, injuries or prim ary abs ence of teeth due to dental pathologies, it is currently \n",
       "<mark class=\"entity\" style=\"background: #aa9cfc; padding: 0.45em 0.6em; margin: 0 0.25em; line-height: 1; border-radius: 0.35em;\">\n",
       "    es tim\n",
       "    <span style=\"font-size: 0.8em; font-weight: bold; line-height: 1; border-radius: 0.35em; vertical-align: middle; margin-left: 0.5rem\">PERSON</span>\n",
       "</mark>\n",
       " ated as a s erious health problem. A wide range of m ethods and techniques for replacing m is s ing teeth appeared in dentis try. They are cons tantly im proved with the evolution of the s cientific bas e and at the s am e \n",
       "<mark class=\"entity\" style=\"background: #aa9cfc; padding: 0.45em 0.6em; margin: 0 0.25em; line-height: 1; border-radius: 0.35em;\">\n",
       "    tim\n",
       "    <span style=\"font-size: 0.8em; font-weight: bold; line-height: 1; border-radius: 0.35em; vertical-align: middle; margin-left: 0.5rem\">PERSON</span>\n",
       "</mark>\n",
       " e new m ethods, m aterials and technologies are found to m \n",
       "<mark class=\"entity\" style=\"background: #aa9cfc; padding: 0.45em 0.6em; margin: 0 0.25em; line-height: 1; border-radius: 0.35em;\">\n",
       "    inim ize\n",
       "    <span style=\"font-size: 0.8em; font-weight: bold; line-height: 1; border-radius: 0.35em; vertical-align: middle; margin-left: 0.5rem\">PERSON</span>\n",
       "</mark>\n",
       " or \n",
       "<mark class=\"entity\" style=\"background: #aa9cfc; padding: 0.45em 0.6em; margin: 0 0.25em; line-height: 1; border-radius: 0.35em;\">\n",
       "    elim inat\n",
       "    <span style=\"font-size: 0.8em; font-weight: bold; line-height: 1; border-radius: 0.35em; vertical-align: middle; margin-left: 0.5rem\">PERSON</span>\n",
       "</mark>\n",
       " e the inherent deficiencies in s om e m ethods of treating edentate. The s elective las er s intering technology allows the execution of dental pros thes is cons idering all individual particularities of the patient???s anatom y to realize them m ore com fortable and s u pportable. In addition, this process has cons iderable advantages com pared with traditional m ethods us ed in \n",
       "<mark class=\"entity\" style=\"background: #feca74; padding: 0.45em 0.6em; margin: 0 0.25em; line-height: 1; border-radius: 0.35em;\">\n",
       "    pros thetic\n",
       "    <span style=\"font-size: 0.8em; font-weight: bold; line-height: 1; border-radius: 0.35em; vertical-align: middle; margin-left: 0.5rem\">GPE</span>\n",
       "</mark>\n",
       " dentis try. ?? \n",
       "<mark class=\"entity\" style=\"background: #bfe1d9; padding: 0.45em 0.6em; margin: 0 0.25em; line-height: 1; border-radius: 0.35em;\">\n",
       "    2018\n",
       "    <span style=\"font-size: 0.8em; font-weight: bold; line-height: 1; border-radius: 0.35em; vertical-align: middle; margin-left: 0.5rem\">DATE</span>\n",
       "</mark>\n",
       ", \n",
       "<mark class=\"entity\" style=\"background: #7aecec; padding: 0.45em 0.6em; margin: 0 0.25em; line-height: 1; border-radius: 0.35em;\">\n",
       "    National Institute of Optoelectronics\n",
       "    <span style=\"font-size: 0.8em; font-weight: bold; line-height: 1; border-radius: 0.35em; vertical-align: middle; margin-left: 0.5rem\">ORG</span>\n",
       "</mark>\n",
       ". All rights reserved.<br>see more details coefficient describes how vibrations are decreasing after a disturbance occurring in a mechanical system. In other words, a damping coefficient is a material property that indicates whether a material will react to a disturbance or return energy to the system. If the reaction of the material is caused by an unwanted vibration vibration Subject Category: Miscellaneous see more details or shock, a high damping coefficient in the material will diminish the response. The suspending elastic elements from a vibrating feeder are made of steel and accumulate some of the vibration energy and then return back, in time, thereby reducing the dynamic loads dynamic loads Subject Category: Properties<br>This paper presents a research conducted in order to identify the cutting parameters effect on turning cutting forces and on the resulted machined surface quality for a \n",
       "<mark class=\"entity\" style=\"background: #bfeeb7; padding: 0.45em 0.6em; margin: 0 0.25em; line-height: 1; border-radius: 0.35em;\">\n",
       "    CoCrWNi\n",
       "    <span style=\"font-size: 0.8em; font-weight: bold; line-height: 1; border-radius: 0.35em; vertical-align: middle; margin-left: 0.5rem\">PRODUCT</span>\n",
       "</mark>\n",
       " alloy. This alloy is a biomaterial used in medical applications for implants manufacturing. The main objective of the research is the development of prediction models for the turning cutting forces and the Ra roughness parameter for dry longitudinal turning with \n",
       "<mark class=\"entity\" style=\"background: #7aecec; padding: 0.45em 0.6em; margin: 0 0.25em; line-height: 1; border-radius: 0.35em;\">\n",
       "    TiAlN PVD\n",
       "    <span style=\"font-size: 0.8em; font-weight: bold; line-height: 1; border-radius: 0.35em; vertical-align: middle; margin-left: 0.5rem\">ORG</span>\n",
       "</mark>\n",
       " coated inserts. In order to achieve this objective, \n",
       "<mark class=\"entity\" style=\"background: #e4e7d2; padding: 0.45em 0.6em; margin: 0 0.25em; line-height: 1; border-radius: 0.35em;\">\n",
       "    thirteen\n",
       "    <span style=\"font-size: 0.8em; font-weight: bold; line-height: 1; border-radius: 0.35em; vertical-align: middle; margin-left: 0.5rem\">CARDINAL</span>\n",
       "</mark>\n",
       " processing experiments were carried out, during which the cutting forces and roughness parameters were registered. The research results consist of the prediction models for cutting forces and Ra roughness parameter.<br>The paper presents the results of the stability evaluation by electrochemical polarization of experimental samples in a synthetic biological electrolyte, the \n",
       "<mark class=\"entity\" style=\"background: #bfeeb7; padding: 0.45em 0.6em; margin: 0 0.25em; line-height: 1; border-radius: 0.35em;\">\n",
       "    Ringer\n",
       "    <span style=\"font-size: 0.8em; font-weight: bold; line-height: 1; border-radius: 0.35em; vertical-align: middle; margin-left: 0.5rem\">PRODUCT</span>\n",
       "</mark>\n",
       " solution. The cyclic voltammetry and the transmission electronic microscopy investigations show that the anodically oxidized and thermally untreated samples posses a thin, nanostructured, stable oxidic layer, with an ohmic behavior in the case of \n",
       "<mark class=\"entity\" style=\"background: #bfeeb7; padding: 0.45em 0.6em; margin: 0 0.25em; line-height: 1; border-radius: 0.35em;\">\n",
       "    TA6V4\n",
       "    <span style=\"font-size: 0.8em; font-weight: bold; line-height: 1; border-radius: 0.35em; vertical-align: middle; margin-left: 0.5rem\">PRODUCT</span>\n",
       "</mark>\n",
       " alloy. Titanium shows a typical behavior of electrochemically passivating metal, by polarization being evidenced a critical passivation potential with a corresponding critical current and a passivity domain characterized by a reduced passivity current. The electrochemical reactivity of the samples is unfavorably raised by thermal processing at \n",
       "<mark class=\"entity\" style=\"background: #e4e7d2; padding: 0.45em 0.6em; margin: 0 0.25em; line-height: 1; border-radius: 0.35em;\">\n",
       "    350\n",
       "    <span style=\"font-size: 0.8em; font-weight: bold; line-height: 1; border-radius: 0.35em; vertical-align: middle; margin-left: 0.5rem\">CARDINAL</span>\n",
       "</mark>\n",
       " and \n",
       "<mark class=\"entity\" style=\"background: #e4e7d2; padding: 0.45em 0.6em; margin: 0 0.25em; line-height: 1; border-radius: 0.35em;\">\n",
       "    600 degrees\n",
       "    <span style=\"font-size: 0.8em; font-weight: bold; line-height: 1; border-radius: 0.35em; vertical-align: middle; margin-left: 0.5rem\">QUANTITY</span>\n",
       "</mark>\n",
       " C in air, when the presence of detrimental anatase in the layers is evidenced by X-ray diffraction analysis. The same analysis shows that the favorable rutille appears in the the oxidic layer at \n",
       "<mark class=\"entity\" style=\"background: #e4e7d2; padding: 0.45em 0.6em; margin: 0 0.25em; line-height: 1; border-radius: 0.35em;\">\n",
       "    600 degrees C\n",
       "    <span style=\"font-size: 0.8em; font-weight: bold; line-height: 1; border-radius: 0.35em; vertical-align: middle; margin-left: 0.5rem\">QUANTITY</span>\n",
       "</mark>\n",
       ", but it predominates or even becomes exclusive after the thermal treatment in air at \n",
       "<mark class=\"entity\" style=\"background: #e4e7d2; padding: 0.45em 0.6em; margin: 0 0.25em; line-height: 1; border-radius: 0.35em;\">\n",
       "    770 degrees\n",
       "    <span style=\"font-size: 0.8em; font-weight: bold; line-height: 1; border-radius: 0.35em; vertical-align: middle; margin-left: 0.5rem\">QUANTITY</span>\n",
       "</mark>\n",
       " C. The thermochemical treatment at this temperature and the resulted crystalline nanostructures ensure an increase of the interface stability and an improvement of the ohmic behavior and biocompatibility characteristics for the oxidic layers achieved by following an anodic oxidation formula, both on titanium and its alloy.<br>The paper presents an experimental scheme performed in the laboratory of \n",
       "<mark class=\"entity\" style=\"background: #feca74; padding: 0.45em 0.6em; margin: 0 0.25em; line-height: 1; border-radius: 0.35em;\">\n",
       "    Thermotechnics\n",
       "    <span style=\"font-size: 0.8em; font-weight: bold; line-height: 1; border-radius: 0.35em; vertical-align: middle; margin-left: 0.5rem\">GPE</span>\n",
       "</mark>\n",
       ", Engines, Thermic and Refrigeration Plants Department of Politehnica University of Bucharest. The purpose of the installation is to specify the effective efficiency of a new type of rotating positive displacement pump rotors profiled after the conducted experimental measurements.<br>The relative motion of a robotic arm formed by homogeneous bars of different lengths and masses, hinged to each other is investigated. The \n",
       "<mark class=\"entity\" style=\"background: #e4e7d2; padding: 0.45em 0.6em; margin: 0 0.25em; line-height: 1; border-radius: 0.35em;\">\n",
       "    first\n",
       "    <span style=\"font-size: 0.8em; font-weight: bold; line-height: 1; border-radius: 0.35em; vertical-align: middle; margin-left: 0.5rem\">ORDINAL</span>\n",
       "</mark>\n",
       " bar of the mechanism is articulated on a platform, considered initially fixed on the surface of the \n",
       "<mark class=\"entity\" style=\"background: #ff9561; padding: 0.45em 0.6em; margin: 0 0.25em; line-height: 1; border-radius: 0.35em;\">\n",
       "    Earth\n",
       "    <span style=\"font-size: 0.8em; font-weight: bold; line-height: 1; border-radius: 0.35em; vertical-align: middle; margin-left: 0.5rem\">LOC</span>\n",
       "</mark>\n",
       ", while for the \n",
       "<mark class=\"entity\" style=\"background: #e4e7d2; padding: 0.45em 0.6em; margin: 0 0.25em; line-height: 1; border-radius: 0.35em;\">\n",
       "    second\n",
       "    <span style=\"font-size: 0.8em; font-weight: bold; line-height: 1; border-radius: 0.35em; vertical-align: middle; margin-left: 0.5rem\">ORDINAL</span>\n",
       "</mark>\n",
       " case the platform is considered to be in rotation with respect to the \n",
       "<mark class=\"entity\" style=\"background: #ff9561; padding: 0.45em 0.6em; margin: 0 0.25em; line-height: 1; border-radius: 0.35em;\">\n",
       "    Earth\n",
       "    <span style=\"font-size: 0.8em; font-weight: bold; line-height: 1; border-radius: 0.35em; vertical-align: middle; margin-left: 0.5rem\">LOC</span>\n",
       "</mark>\n",
       ". For both analyzed cases the motion equations are determined using the \n",
       "<mark class=\"entity\" style=\"background: #bfeeb7; padding: 0.45em 0.6em; margin: 0 0.25em; line-height: 1; border-radius: 0.35em;\">\n",
       "    Lagrangian\n",
       "    <span style=\"font-size: 0.8em; font-weight: bold; line-height: 1; border-radius: 0.35em; vertical-align: middle; margin-left: 0.5rem\">PRODUCT</span>\n",
       "</mark>\n",
       " formalism, applied in its traditional form, valid with respect to an inertial reference system, conventionally considered as fixed. However, in the \n",
       "<mark class=\"entity\" style=\"background: #e4e7d2; padding: 0.45em 0.6em; margin: 0 0.25em; line-height: 1; border-radius: 0.35em;\">\n",
       "    second\n",
       "    <span style=\"font-size: 0.8em; font-weight: bold; line-height: 1; border-radius: 0.35em; vertical-align: middle; margin-left: 0.5rem\">ORDINAL</span>\n",
       "</mark>\n",
       " case, a generalized form of the formalism valid with respect to a non-inertial reference frame will also be applied. The numerical calculations were performed using a MATLAB program.<br>The use of the modern CAD and FEM techniques in the conception, simulation and manufacturing processes of industrial products has a large application in the mechanical, medical, automotive and aerospace industry domains. This article presents some important aspects of a practical study and methodology to design a cylindrical gear pump using the \n",
       "<mark class=\"entity\" style=\"background: #7aecec; padding: 0.45em 0.6em; margin: 0 0.25em; line-height: 1; border-radius: 0.35em;\">\n",
       "    CATIA\n",
       "    <span style=\"font-size: 0.8em; font-weight: bold; line-height: 1; border-radius: 0.35em; vertical-align: middle; margin-left: 0.5rem\">ORG</span>\n",
       "</mark>\n",
       " software, and then a FEM analysis is applied to its assembly to identify the most stressed components. In the parametric design of the gear pump there were taken into account some of its constructive and functional data, among them, the flow being the main parameter.<br>This paper presents a mode for applying a methodology of estimating the price, presented in previous researches and applied for the price forecasting of springs for light/heavy load. By applying this methodology, the manufacturing companies will succeed in forecasting the procurement price from price offers given to the customers, offers related to similar quotation requests, for products with constructive characteristics comparable or different to the most currently proposed ones. The methodology proposed can be used for the procurement price forecasting for standard components from different equipment from manufacturing process systems. This methodology has as starting point a causal forecast model that is based on the hypothesis that the variable we want to forecast (the product procurement price) is related to another variable which in turn is related to the general environment. The methodology is <br>This paper presents a mode for applying a methodology of estimating the price, presented in previous researches and applied for the price forecasting of springs for light/heavy load. By applying this methodology, the manufacturing companies will succeed in forecasting the procurement price from price offers given to the customers, offers related to similar quotation requests, for products with constructive characteristics comparable or different to the most currently proposed ones. The methodology proposed can be used for the procurement price forecasting for standard components from different equipment from manufacturing process systems. This methodology has as starting point a causal forecast model that is based on the hypothesis that the variable we want to forecast (the product procurement price) is related to another variable which in turn is related to the general environment. The methodology is </div></span>"
      ],
      "text/plain": [
       "<IPython.core.display.HTML object>"
      ]
     },
     "metadata": {},
     "output_type": "display_data"
    }
   ],
   "source": [
    "displacy.render(doc, style=\"ent\")"
   ]
  },
  {
   "cell_type": "code",
   "execution_count": 1388,
   "id": "f6a4a1f2-cad3-4dd0-869e-08393c4742c3",
   "metadata": {
    "scrolled": true
   },
   "outputs": [
    {
     "name": "stdout",
     "output_type": "stream",
     "text": [
      "The paper presents the current stage of constructive-technological and functional researches on \u001b[1m\u001b[31mmagnetic drive pumps\u001b[0m. This type of pump is provided with a closed system for driving and pumping the fluid. It is envisaged that the rotation of the motor shaft is done by induction of a magnetic field without external drive from an electric motor, as in the case of classical hydraulic pumps. The studied pumps use a construction system containing an \u001b[1m\u001b[31mexternal drive magnet\u001b[0m and an internal magnet that is connected to an impeller that moves the fluid. The drive magnet and the inner magnet are separated by a housing, resulting in less sealing. Driving the pump with the \u001b[1m\u001b[31minduced magnetic field\u001b[0m helps in avoiding fluid leakage and in performance optimization.\n",
      "<jats:p>The paper presents a method for analysing the variance of manufacturing cost and price components using a scenario method. The analysis model is based on the usual relations for calculus of the \u001b[1m\u001b[31mtotal manufacturing cost\u001b[0m and final price of the product, by integrating relationships that take into account complex dependencies between different components of a product cost and selling price.</jats:p>\n",
      "Agricultural works by their effects on physical, chemical and biological properties of soil represent one of the main methods of increasing the production. Maintenance works are an important category of agricultural works which have to be performed for obtaining high productivity crops. The paper presents the components and operating system of an experimental model of such intelligent equipment aiming to hoe between and in hoeing hoeing Subject Category: Techniques, Methodologies and Equipment\n",
      "The issue of \u001b[1m\u001b[31mmonitoring project budgets\u001b[0m is a major one when discussing about \u001b[1m\u001b[31mefficient project management\u001b[0m. Thus, if the implementation of the project implies that the budget allocated to some activities has been underestimated or overestimated, then we have to deal with the question of a budgetary reallocation between the budget chapters of the project budget. Therefore, during the implementation of a project, \u001b[1m\u001b[31mproject budget monitoring\u001b[0m has to be made permanently through the project's cash-flow simulations and analyses. This paper has been developed within a project funded by the \u001b[1m\u001b[31mSectoral Operational Program\u001b[0m for \u001b[1m\u001b[31mHuman Resources Development\u001b[0m, a project implemented in partnership between two universities in Romania, over a period of 18 months. One of the major responsibilities of the project manager was the ongoing monitoring of the budget because the contractual clauses \u001b[1m\u001b[31mimposed major penalties\u001b[0m if the percentage ratios between the main budget chapters of the project were not respected during the execution phase. The permanent monitoring of the project's cash flow resulted in a budget execution of approximately 96\\% and the \u001b[1m\u001b[31mpercentage execution budgets\u001b[0m of the project to be respected among the categories of budget expenditures were within the limits imposed by the financing contract.\n",
      "The cost estimation associated to components of \u001b[1m\u001b[31mcold plastic deformation\u001b[0m equipments is facing with a number of complex influencing factors. This study develops a methodology to estimate the cost/purchasing price of the normalized components intended for use in \u001b[1m\u001b[31mcold plastic deformation\u001b[0m equipments, using the regression analysis. The methodology is exemplified based on a case study.\n",
      "<jats:p>The process of the product design consists in a plan for the product, its components and subassemblies. To obtain the physical entity building a manufacturing plan is needed. The activity of developing such a manufacturing plan is name process planning. Process planning is the relation between design and manufacturing. Process planning consists in defining the sequence of the steps that should be taken to make the product. Process planning is referring to the engineering and technological issues of how to make it.</jats:p>\n",
      "The tooth los s due to caries, periodontal dis eas e, injuries or prim ary abs ence of teeth due to dental pathologies, it is currently es tim ated as a s erious health problem. A wide range of m ethods and techniques for replacing m is s ing teeth appeared in dentis try. They are cons tantly im proved with the evolution of the s cientific bas e and at the s am e tim e new m ethods, m aterials and technologies are found to m inim ize or elim inat e the inherent deficiencies in s om e m ethods of treating edentate. The s elective las er s intering technology allows the execution of dental pros thes is cons idering all individual particularities of the patient???s anatom y to realize them m ore com fortable and s u pportable. In addition, this process has cons iderable advantages com pared with traditional m ethods us ed in pros thetic dentis try. ?? 2018, National Institute of Optoelectronics. All rights reserved.\n",
      "see more details coefficient describes how vibrations are decreasing after a disturbance occurring in a mechanical system. In other words, a damping coefficient is a material property that indicates whether a material will react to a disturbance or return energy to the system. If the reaction of the material is caused by an unwanted vibration vibration Subject Category: Miscellaneous see more details or shock, a high damping coefficient in the material will diminish the response. The suspending elastic elements from a vibrating feeder are made of steel and accumulate some of the vibration energy and then return back, in time, thereby reducing the dynamic loads dynamic loads Subject Category: Properties\n",
      "This paper presents a research conducted in order to identify the cutting parameters effect on turning cutting forces and on the resulted machined surface quality for a CoCrWNi alloy. This alloy is a biomaterial used in medical applications for implants manufacturing. The main objective of the research is the development of prediction models for the turning cutting forces and the Ra roughness parameter for dry longitudinal turning with TiAlN PVD coated inserts. In order to achieve this objective, thirteen processing experiments were carried out, during which the cutting forces and roughness parameters were registered. The research results consist of the prediction models for cutting forces and Ra roughness parameter.\n",
      "The paper presents the results of the stability evaluation by electrochemical polarization of experimental samples in a synthetic biological electrolyte, the Ringer solution. The cyclic voltammetry and the transmission electronic microscopy investigations show that the anodically oxidized and thermally untreated samples posses a thin, nanostructured, stable oxidic layer, with an ohmic behavior in the case of TA6V4 alloy. Titanium shows a typical behavior of electrochemically passivating metal, by polarization being evidenced a critical passivation potential with a corresponding critical current and a passivity domain characterized by a reduced passivity current. The electrochemical reactivity of the samples is unfavorably raised by thermal processing at 350 and 600 degrees C in air, when the presence of detrimental anatase in the layers is evidenced by X-ray diffraction analysis. The same analysis shows that the favorable rutille appears in the the oxidic layer at 600 degrees C, but it predominates or even becomes exclusive after the thermal treatment in air at 770 degrees C. The thermochemical treatment at this temperature and the resulted crystalline nanostructures ensure an increase of the interface stability and an improvement of the ohmic behavior and biocompatibility characteristics for the oxidic layers achieved by following an anodic oxidation formula, both on titanium and its alloy.\n",
      "The paper presents an experimental scheme performed in the laboratory of Thermotechnics, Engines, Thermic and Refrigeration Plants Department of Politehnica University of Bucharest. The purpose of the installation is to specify the effective efficiency of a new type of rotating positive displacement pump rotors profiled after the conducted experimental measurements.\n",
      "The relative motion of a robotic arm formed by homogeneous bars of different lengths and masses, hinged to each other is investigated. The first bar of the mechanism is articulated on a platform, considered initially fixed on the surface of the Earth, while for the second case the platform is considered to be in rotation with respect to the Earth. For both analyzed cases the motion equations are determined using the Lagrangian formalism, applied in its traditional form, valid with respect to an inertial reference system, conventionally considered as fixed. However, in the second case, a generalized form of the formalism valid with respect to a non-inertial reference frame will also be applied. The numerical calculations were performed using a MATLAB program.\n",
      "The use of the modern CAD and FEM techniques in the conception, simulation and manufacturing processes of industrial products has a large application in the mechanical, medical, automotive and aerospace industry domains. This article presents some important aspects of a practical study and methodology to design a cylindrical gear pump using the CATIA software, and then a FEM analysis is applied to its assembly to identify the most stressed components. In the parametric design of the gear pump there were taken into account some of its constructive and functional data, among them, the flow being the main parameter.\n",
      "This paper presents a mode for applying a methodology of estimating the price, presented in previous researches and applied for the price forecasting of springs for light/heavy load. By applying this methodology, the manufacturing companies will succeed in forecasting the procurement price from price offers given to the customers, offers related to similar quotation requests, for products with constructive characteristics comparable or different to the most currently proposed ones. The methodology proposed can be used for the procurement price forecasting for standard components from different equipment from manufacturing process systems. This methodology has as starting point a causal forecast model that is based on the hypothesis that the variable we want to forecast (the \u001b[1m\u001b[31mproduct procurement price\u001b[0m) is related to another variable which in turn is related to the general environment. The methodology is \n",
      "This paper presents a mode for applying a methodology of estimating the price, presented in previous researches and applied for the price forecasting of springs for light/heavy load. By applying this methodology, the manufacturing companies will succeed in forecasting the procurement price from price offers given to the customers, offers related to similar quotation requests, for products with constructive characteristics comparable or different to the most currently proposed ones. The methodology proposed can be used for the procurement price forecasting for standard components from different equipment from manufacturing process systems. This methodology has as starting point a causal forecast model that is based on the hypothesis that the variable we want to forecast (the \u001b[1m\u001b[31mproduct procurement price\u001b[0m) is related to another variable which in turn is related to the general environment. The methodology is \n"
     ]
    }
   ],
   "source": [
    "from termcolor import colored\n",
    "\n",
    "# Funcție pentru evidențierea cuvintelor cheie\n",
    "def highlight_keywords(text, keywords):\n",
    "    for kw, _ in keywords:\n",
    "        text = text.replace(kw, colored(kw, 'red', attrs=['bold']))\n",
    "    return text\n",
    "\n",
    "# Evidențierea cuvintelor cheie în text\n",
    "highlighted_text = highlight_keywords(text, keywords)\n",
    "print(highlighted_text)"
   ]
  },
  {
   "cell_type": "markdown",
   "id": "0bc2b6c7-7a49-4ebb-a53d-44fe92192a27",
   "metadata": {},
   "source": [
    "EXTRACT KEYWORDS WITH LDA"
   ]
  },
  {
   "cell_type": "code",
   "execution_count": 1221,
   "id": "62bd8500-bfd7-4dd1-8b15-95d9028ead13",
   "metadata": {},
   "outputs": [],
   "source": [
    "abstract_list = texts[1146]"
   ]
  },
  {
   "cell_type": "code",
   "execution_count": 1222,
   "id": "d40eeb24-3b48-4527-9e7a-64fa38dd058a",
   "metadata": {},
   "outputs": [],
   "source": [
    "nlp = spacy.load('en_core_web_lg')"
   ]
  },
  {
   "cell_type": "code",
   "execution_count": 1223,
   "id": "f1357ebe-0468-4a82-9a2e-73b4eb6c24bd",
   "metadata": {},
   "outputs": [],
   "source": [
    "# remove abstracts that contain mostly person and organization names\n",
    "clean_abstract_list = []\n",
    "\n",
    "for abstract in abstract_list:\n",
    "    nlp.max_length = len(abstract) + 1000\n",
    "    doc = nlp(abstract)\n",
    "    person_orgs_count = 0\n",
    "    other_words_count = 0\n",
    "\n",
    "    for token in doc:\n",
    "        if token.ent_type_ == 'PERSON' or token.ent_type_ == 'ORG':\n",
    "            person_orgs_count += 1\n",
    "        elif token.is_alpha:\n",
    "            other_words_count += 1\n",
    "\n",
    "    if person_orgs_count < other_words_count:\n",
    "        clean_abstract_list.append(abstract)"
   ]
  },
  {
   "cell_type": "code",
   "execution_count": 1224,
   "id": "72097b7e-9438-46c0-a8f7-718e74e8c2db",
   "metadata": {},
   "outputs": [],
   "source": [
    "# keep only adjectives and nouns\n",
    "remove_pos = ['ADV', 'PRON', 'PART', 'DET', 'SPACE', 'NUM', 'SYM', 'ADP', 'VERB', 'CCONJ', 'INTJ']\n",
    "remove_entities = ['PERSON', 'NORP', 'FAC', 'GPE', 'LOC', 'LANGUAGE', 'DATE', 'TIME', 'PERCENT', 'MONEY',\n",
    "                   'QUANTITY', 'CARDINAL', 'ORDINAL']\n",
    "\n",
    "tokens = []\n",
    "for abstract in clean_abstract_list:\n",
    "    nlp.max_length = len(abstract) + 1000\n",
    "    doc = nlp(abstract)\n",
    "    t = [token.lemma_.upper() for token in doc if token.is_alpha and token.ent_type_ not in remove_entities\n",
    "                             and token.lemma_.lower() not in stop_words and token.pos_ not in remove_pos and not token.is_stop]\n",
    "    tokens.append(t)\n",
    "\n",
    "# add bigrams to the token list\n",
    "bigram = Phrases(tokens, min_count=3, delimiter=' ', threshold=1)\n",
    "tokens = [bigram[text] for text in tokens]\n",
    "trigram = Phrases(tokens, min_count=3, delimiter=' ', threshold=1)\n",
    "tokens = [trigram[text] for text in tokens]"
   ]
  },
  {
   "cell_type": "code",
   "execution_count": 1225,
   "id": "828a68b9-b9bb-4b28-b663-b8ee92c11d94",
   "metadata": {},
   "outputs": [],
   "source": [
    "# remove single words\n",
    "ngrams = [[token for token in text if len(token.split(\" \")) > 1] for text in tokens]"
   ]
  },
  {
   "cell_type": "code",
   "execution_count": 1226,
   "id": "d7693dcd-bd15-4591-9df4-28776aeda747",
   "metadata": {},
   "outputs": [],
   "source": [
    "word_count = 0\n",
    "for text in ngrams:\n",
    "    word_count += len(text)\n",
    "\n",
    "if word_count > 100:\n",
    "    tokens = ngrams"
   ]
  },
  {
   "cell_type": "code",
   "execution_count": 1227,
   "id": "772dcea5-9bec-48d6-96a4-ad3b822238e0",
   "metadata": {},
   "outputs": [
    {
     "name": "stdout",
     "output_type": "stream",
     "text": [
      "2063\n"
     ]
    }
   ],
   "source": [
    "print(word_count)"
   ]
  },
  {
   "cell_type": "code",
   "execution_count": 1228,
   "id": "13270681-56fc-42e1-b8ec-a93f8e6053cf",
   "metadata": {},
   "outputs": [],
   "source": [
    "# create dictionary with gensim\n",
    "dictionary = Dictionary(tokens)\n",
    "# create corpus\n",
    "corpus = [dictionary.doc2bow(text) for text in tokens]"
   ]
  },
  {
   "cell_type": "code",
   "execution_count": 1236,
   "id": "c3b75514-81ff-4259-99bb-3bb2e5dff765",
   "metadata": {},
   "outputs": [],
   "source": [
    "# apply LDA\n",
    "num_topics = 1\n",
    "lda_model = LdaMulticore(corpus=corpus, id2word=dictionary, iterations=1, num_topics=num_topics, workers=3, passes=1)"
   ]
  },
  {
   "cell_type": "code",
   "execution_count": 1237,
   "id": "b40409cd-03aa-4183-950c-3b893e659f4f",
   "metadata": {
    "scrolled": true
   },
   "outputs": [
    {
     "name": "stdout",
     "output_type": "stream",
     "text": [
      "VIRTUAL REALITY\n",
      "VIRTUAL ENVIRONMENT\n",
      "SMITH CHART\n",
      "VIRTUAL SPACE\n",
      "SOUND SOURCE\n",
      "SOUND LOCALIZATION\n",
      "SOUND VISION\n",
      "FEAR LEVEL\n",
      "LEARNING PROCESS\n",
      "VIRTUAL WORLD\n",
      "HUMAN BODY\n",
      "MIXED REALITY\n",
      "LARGE NUMBER\n",
      "SENSORY SUBSTITUTION DEVICE\n",
      "HUMAN HEALTH\n",
      "\n"
     ]
    }
   ],
   "source": [
    "for i in range(num_topics):\n",
    "    topics = lda_model.show_topic(topicid=i, topn=15)\n",
    "    words = [word for word, _ in topics]\n",
    "\n",
    "    for w in words:\n",
    "        print(w)\n",
    "        \n",
    "    print()"
   ]
  },
  {
   "cell_type": "code",
   "execution_count": 1231,
   "id": "520ce4aa-219a-4c0f-bc66-76ed73dc0d9b",
   "metadata": {},
   "outputs": [
    {
     "name": "stdout",
     "output_type": "stream",
     "text": [
      "0.5768884219744295\n"
     ]
    }
   ],
   "source": [
    "cm = CoherenceModel(model=lda_model, texts=tokens, dictionary=dictionary, coherence='c_v', topn=15)\n",
    "coherence = cm.get_coherence()\n",
    "print(coherence)"
   ]
  },
  {
   "cell_type": "code",
   "execution_count": 1232,
   "id": "ca8f7025-2a4e-48e8-91b3-b99b02db1f22",
   "metadata": {},
   "outputs": [
    {
     "data": {
      "text/html": [
       "\n",
       "<link rel=\"stylesheet\" type=\"text/css\" href=\"https://cdn.jsdelivr.net/gh/bmabey/pyLDAvis@3.4.0/pyLDAvis/js/ldavis.v1.0.0.css\">\n",
       "\n",
       "\n",
       "<div id=\"ldavis_el1256419851874835369508331576\" style=\"background-color:white;\"></div>\n",
       "<script type=\"text/javascript\">\n",
       "\n",
       "var ldavis_el1256419851874835369508331576_data = {\"mdsDat\": {\"x\": [0.0016514076025221178, -0.0016514076025221178], \"y\": [0.0, 0.0], \"topics\": [1, 2], \"cluster\": [1, 1], \"Freq\": [50.297074900685125, 49.70292509931488]}, \"tinfo\": {\"Term\": [\"SMITH CHART\", \"FEAR LEVEL\", \"INFLUENCE CANNABIS\", \"USE MULTIPLAYER MMO VIRTUAL\", \"FILE SYSTEM\", \"FAMILY CIRCLE\", \"BIOLOGY LAB ROOM\", \"AUGMENTED REALITY\", \"HUMAN BODY\", \"CLIMATE CHANGE\", \"MODALITY FEAR\", \"SOUND SOURCE\", \"SOUND LOCALIZATION\", \"ANXIETY LEVEL\", \"COMPONENT VIRTUAL\", \"MODERN TOUCHSCREEN DEVICE\", \"GPGPU GENERAL PURPOSE\", \"AUDIO HAPTIC\", \"PROCESSING UNITS\", \"POINT VIEW\", \"LEARNING TOOL IMPAIRED EMPLOYMENT\", \"SONIFICATION MODEL\", \"NORMAL VECTOR\", \"AUDITORY ENVIRONMENT\", \"PARADIGM SHIFT MODERN SOCIETY\", \"VIRTUAL AUDITORY DISPLAY\", \"MASSIVE MULTI\", \"TIME GLOBAL ILLUMINATION\", \"SPORT TRAINING SYSTEM\", \"SPATIAL AUDITORY\", \"SMITH CHART\", \"USE MULTIPLAYER MMO VIRTUAL\", \"FAMILY CIRCLE\", \"FEAR LEVEL\", \"BIOLOGY LAB ROOM\", \"MODALITY FEAR\", \"FILE SYSTEM\", \"COMPUTER INTERFACE\", \"LEARNING TOOL IMPAIRED EMPLOYMENT\", \"COMPONENT VIRTUAL\", \"ACCURATE DIAGNOSIS\", \"MODERN TOUCHSCREEN DEVICE\", \"PARADIGM SHIFT MODERN SOCIETY\", \"USABILITY EDUCATIONAL TOOL IMPAIRED\", \"NORMAL VECTOR\", \"HEARING DEVELOPMENT RELIABLE INTERACTIVE\", \"ENVIRONMENT REGARD TRADITIONAL METHOD\", \"SONIFICATION MODEL\", \"TRAINING TOOL\", \"WORLD IMMERSIVE ENTERTAINING PRACTICAL\", \"HEALTH CARE\", \"EEG BIOPHYSICAL\", \"POPULATION FACTOR METHOD INSUFFICIENT\", \"AREA EDUCATION\", \"CHEAP MASSIVE MULTI PLAYER\", \"ACCOUNT COGNITIVE MENTAL MODEL\", \"DIGITAL SERVICE EDUCATION CONCERN\", \"FEATURE SELECTION\", \"CIRCUIT NEGATIVE\", \"LIFELONG LEARNING\", \"GENERAL PURPOSE\", \"COMPUTER GAME\", \"MULTI USER\", \"HOSPITAL INFECTION\", \"VIRTUAL REALITY\", \"SMART DEVICE\", \"AUDITORY HAPTIC\", \"NEURAL NETWORK\", \"VIRTUAL ENVIRONMENT\", \"STATE ART\", \"REFLECTION COEFFICIENT\", \"VIRTUAL SPACE\", \"LARGE NUMBER\", \"LEARNING PROCESS\", \"VIRTUAL WORLD\", \"SOUND VISION\", \"SENSORY SUBSTITUTION DEVICE\", \"SOUND SOURCE\", \"MIXED REALITY\", \"SOUND LOCALIZATION\", \"HUMAN HEALTH\", \"FREE FIELD\", \"ASSISTIVE DEVICE\", \"HUMAN BODY\", \"SENSORY SUBSTITUTION\", \"VIRTUAL THERAPIST\", \"HEAVY METAL\", \"AUDIO HAPTIC\", \"SOUND LOCALIZATION PERFORMANCE\", \"INFLUENCE CANNABIS\", \"MASSIVE MULTI\", \"SERVER ARCHITECTURE\", \"AUGMENTED REALITY\", \"AUDITORY ENVIRONMENT\", \"ANXIETY LEVEL\", \"GPGPU GENERAL PURPOSE\", \"PROCESSING UNITS\", \"TRAINING SOUND\", \"TIME GLOBAL ILLUMINATION\", \"SPORT TRAINING SYSTEM\", \"CLIMATE CHANGE\", \"USER POPULAR\", \"LOCALIZATION ACCURACY\", \"GAME SPECIFIC\", \"COGNITIVE LOAD\", \"MMO APPLICATION VIRTUAL ONLINE\", \"WORLD POPULATION\", \"LOCALIZATION PERFORMANCE\", \"PLAYER FEELING UNIQUENESS INDIVIDUALIZATION\", \"SPATIAL AUDITORY\", \"AR APPLICATION\", \"PERCEPTUAL FEEDBACK\", \"COMPUTER VISION\", \"GLOBAL ILLUMINATION\", \"VIRTUAL AUDITORY DISPLAY\", \"IMPAIRED USER\", \"POINT VIEW\", \"SENSE AUDITORY\", \"GAME LEARNING\", \"HUMAN BODY\", \"AUDIO HAPTIC\", \"SOUND SOURCE\", \"SOUND LOCALIZATION\", \"BINAURAL SOUND\", \"MMO SERVER\", \"VIRTUAL ENVIRONMENT\", \"SOUND VISION\", \"VIRTUAL THERAPIST\", \"VIRTUAL REALITY\", \"MIXED REALITY\", \"SENSORY SUBSTITUTION\", \"VIRTUAL WORLD\", \"LEARNING PROCESS\", \"VIRTUAL SPACE\", \"HUMAN HEALTH\", \"SENSORY SUBSTITUTION DEVICE\", \"NEUROMOTOR REHABILITATION\", \"MOBILE DEVICE\", \"LARGE NUMBER\", \"ASSISTIVE DEVICE\", \"SOUND LOCALIZATION PERFORMANCE\", \"SMITH CHART\", \"ADVANCEMENT TECHNOLOGY\", \"HEAVY METAL\", \"HOSPITAL INFECTION\", \"FEAR LEVEL\", \"STATE ART\", \"FREE FIELD\", \"REFLECTION COEFFICIENT\", \"COMPUTER GAME\"], \"Freq\": [26.0, 12.0, 4.0, 4.0, 6.0, 4.0, 4.0, 4.0, 11.0, 6.0, 4.0, 13.0, 13.0, 4.0, 4.0, 5.0, 4.0, 8.0, 4.0, 6.0, 4.0, 6.0, 5.0, 3.0, 4.0, 5.0, 2.0, 4.0, 4.0, 4.0, 16.484595495622635, 2.9793780558719076, 2.4730019923844413, 7.415134469381906, 2.4682641366025195, 2.447747923719107, 3.8732677673076896, 1.4448421100503814, 2.39836826144618, 2.866703771381564, 2.3673923338068494, 3.30969075027791, 2.8309752508636468, 2.3510996278725758, 3.276726280955799, 2.3392299836717902, 2.8052462128205526, 3.7167419229360332, 0.926586195110751, 2.7742543401258137, 2.306251743620009, 1.3803367507848243, 2.7590318856378673, 2.746531203789721, 2.287955758906291, 2.285170689228355, 2.7416261665177637, 2.738001807105169, 0.9121418472471287, 2.2762465316265796, 2.726783252666878, 4.068448049864637, 3.6175206749668423, 4.9333692195002605, 22.19898831821994, 3.585205845856735, 3.5709707768453427, 3.5602320236197844, 14.504626454450122, 4.3695182374275605, 3.9645850996294705, 6.857963982341673, 5.302774116340029, 5.967703220561708, 5.512017212991611, 6.127583324771018, 4.787390787689266, 6.278684951202962, 5.057629036295028, 5.918335396284462, 4.72982768811579, 3.790389234764734, 4.041134653134181, 5.0876666215827715, 4.215696287906308, 4.150754493146893, 3.7357450466979225, 3.999899048706779, 3.614800593469282, 2.510879721885288, 1.451207899488483, 1.4395998673497106, 2.853632341129167, 1.900037245844208, 2.3742190023172394, 2.363533095205687, 2.358125204948965, 1.4087804793525789, 2.3246372050283988, 2.3225215100144894, 3.7143971994505827, 0.927530828520426, 2.310532094126595, 0.9219007329901543, 2.304295067243456, 2.3020034224185277, 0.9201794329393436, 1.3771528442927536, 2.2921127511556927, 2.749319648147063, 1.8299592054746137, 2.7440502258555934, 1.3718446270972262, 1.8272663616572598, 3.1947116466343313, 2.7327471813471833, 3.6426820141297487, 0.9092218421304511, 0.9068343440502662, 6.293751956269797, 4.9426517402703585, 7.54254678730755, 7.090177674536655, 3.1468000594918806, 3.1396243152994785, 15.586769697385169, 6.883183345707972, 4.793428633923716, 20.920660763573398, 5.514682958709464, 4.729188570085675, 5.874278534761207, 6.232540998540589, 6.970085840700419, 5.02982257662995, 4.972906990678022, 3.4904887699284406, 3.8605508529881725, 5.272259452330099, 4.093076287230698, 3.7057871181284616, 9.585355129162313, 3.042948846814661, 3.58619066537481, 4.019844400214607, 4.801835071841767, 3.76841808871512, 3.5321678662073035, 3.360004199086394, 3.257278157995786], \"Total\": [26.0, 12.0, 4.0, 4.0, 6.0, 4.0, 4.0, 4.0, 11.0, 6.0, 4.0, 13.0, 13.0, 4.0, 4.0, 5.0, 4.0, 8.0, 4.0, 6.0, 4.0, 6.0, 5.0, 3.0, 4.0, 5.0, 2.0, 4.0, 4.0, 4.0, 26.069950624784948, 4.886927905044676, 4.072337788235782, 12.216969541223673, 4.072294951427403, 4.0720530747735335, 6.514732807416639, 2.4429723824509386, 4.071477879281064, 4.88565670893991, 4.071101342690624, 5.699482623928629, 4.885254708688093, 4.070962476699212, 5.6990683921693055, 4.070827634446767, 4.88491424954978, 6.51295517994307, 1.62826091087193, 4.884570589798576, 4.070410255793038, 2.442246143878748, 4.884442814688247, 4.884301592428239, 4.070239369624061, 4.070188564784119, 4.884172983743878, 4.884124678902864, 1.6280815089148293, 4.070061778364362, 4.884040381298098, 7.3257262078604235, 6.511801480985226, 8.953213619714868, 43.11964908179334, 6.5114586663140415, 6.511260906649053, 6.5111760696603165, 30.09139615183529, 8.13793632614268, 7.324589298715864, 13.828049823042091, 10.575033568670127, 12.200244219102297, 11.386295747752818, 13.01076667047899, 9.760297778367288, 13.821231738510512, 10.572311995004492, 13.008513070821117, 9.75965026474574, 7.322557100972038, 8.134210940364879, 11.381418577852568, 8.944884857991983, 8.944183127070609, 7.321935712072733, 8.942550788977137, 7.320587711597744, 4.061726976205731, 2.4377126533236853, 2.437835168936439, 4.8759468592221795, 3.2506701703419894, 4.063335495750643, 4.063459732226363, 4.0635241366673265, 2.4382256297892253, 4.063895461905709, 4.063951797507646, 6.50223286131606, 1.6256407474750936, 4.064082314872094, 1.6257002584203792, 4.064142860099881, 4.064183058832502, 1.6257268746707365, 2.43857266265747, 4.064325934481044, 4.87715685178817, 3.251507884695477, 4.877228298283144, 2.438636600379831, 3.251504561019485, 5.690160653157048, 4.8773564089517984, 6.503092320460114, 1.6258509161766126, 1.625877523644378, 11.381418577852568, 8.942550788977137, 13.821231738510512, 13.008513070821117, 5.69071768580353, 5.690755629632769, 30.09139615183529, 13.01076667047899, 8.944183127070609, 43.11964908179334, 10.572311995004492, 8.944884857991983, 11.386295747752818, 12.200244219102297, 13.828049823042091, 9.75965026474574, 9.760297778367288, 6.504892314329821, 7.31874539362526, 10.575033568670127, 8.134210940364879, 7.320587711597744, 26.069950624784948, 5.69188181600233, 7.321935712072733, 8.953213619714868, 12.216969541223673, 8.13793632614268, 7.322557100972038, 7.324589298715864, 7.3257262078604235], \"Category\": [\"Default\", \"Default\", \"Default\", \"Default\", \"Default\", \"Default\", \"Default\", \"Default\", \"Default\", \"Default\", \"Default\", \"Default\", \"Default\", \"Default\", \"Default\", \"Default\", \"Default\", \"Default\", \"Default\", \"Default\", \"Default\", \"Default\", \"Default\", \"Default\", \"Default\", \"Default\", \"Default\", \"Default\", \"Default\", \"Default\", \"Topic1\", \"Topic1\", \"Topic1\", \"Topic1\", \"Topic1\", \"Topic1\", \"Topic1\", \"Topic1\", \"Topic1\", \"Topic1\", \"Topic1\", \"Topic1\", \"Topic1\", \"Topic1\", \"Topic1\", \"Topic1\", \"Topic1\", \"Topic1\", \"Topic1\", \"Topic1\", \"Topic1\", \"Topic1\", \"Topic1\", \"Topic1\", \"Topic1\", \"Topic1\", \"Topic1\", \"Topic1\", \"Topic1\", \"Topic1\", \"Topic1\", \"Topic1\", \"Topic1\", \"Topic1\", \"Topic1\", \"Topic1\", \"Topic1\", \"Topic1\", \"Topic1\", \"Topic1\", \"Topic1\", \"Topic1\", \"Topic1\", \"Topic1\", \"Topic1\", \"Topic1\", \"Topic1\", \"Topic1\", \"Topic1\", \"Topic1\", \"Topic1\", \"Topic1\", \"Topic1\", \"Topic1\", \"Topic1\", \"Topic1\", \"Topic1\", \"Topic1\", \"Topic1\", \"Topic2\", \"Topic2\", \"Topic2\", \"Topic2\", \"Topic2\", \"Topic2\", \"Topic2\", \"Topic2\", \"Topic2\", \"Topic2\", \"Topic2\", \"Topic2\", \"Topic2\", \"Topic2\", \"Topic2\", \"Topic2\", \"Topic2\", \"Topic2\", \"Topic2\", \"Topic2\", \"Topic2\", \"Topic2\", \"Topic2\", \"Topic2\", \"Topic2\", \"Topic2\", \"Topic2\", \"Topic2\", \"Topic2\", \"Topic2\", \"Topic2\", \"Topic2\", \"Topic2\", \"Topic2\", \"Topic2\", \"Topic2\", \"Topic2\", \"Topic2\", \"Topic2\", \"Topic2\", \"Topic2\", \"Topic2\", \"Topic2\", \"Topic2\", \"Topic2\", \"Topic2\", \"Topic2\", \"Topic2\", \"Topic2\", \"Topic2\", \"Topic2\", \"Topic2\", \"Topic2\", \"Topic2\", \"Topic2\", \"Topic2\", \"Topic2\", \"Topic2\", \"Topic2\", \"Topic2\", \"Topic2\"], \"logprob\": [30.0, 29.0, 28.0, 27.0, 26.0, 25.0, 24.0, 23.0, 22.0, 21.0, 20.0, 19.0, 18.0, 17.0, 16.0, 15.0, 14.0, 13.0, 12.0, 11.0, 10.0, 9.0, 8.0, 7.0, 6.0, 5.0, 4.0, 3.0, 2.0, 1.0, -4.1423, -5.853, -6.0393, -4.9412, -6.0412, -6.0495, -5.5906, -6.5767, -6.0699, -5.8915, -6.0829, -5.7478, -5.9041, -6.0898, -5.7578, -6.0949, -5.9132, -5.6318, -7.0209, -5.9243, -6.1091, -6.6224, -5.9298, -5.9344, -6.117, -6.1183, -5.9361, -5.9375, -7.0367, -6.1222, -5.9416, -5.5414, -5.6589, -5.3487, -3.8446, -5.6679, -5.6719, -5.6749, -4.2702, -5.47, -5.5673, -5.0193, -5.2765, -5.1583, -5.2378, -5.1319, -5.3787, -5.1075, -5.3238, -5.1666, -5.3908, -5.6122, -5.5482, -5.3179, -5.5059, -5.5214, -5.6267, -5.5584, -5.6597, -6.0122, -6.5604, -6.5684, -5.8842, -6.2909, -6.0681, -6.0727, -6.0749, -6.5901, -6.0892, -6.0902, -5.6206, -7.008, -6.0953, -7.0141, -6.098, -6.099, -7.016, -6.6128, -6.1033, -5.9215, -6.3285, -5.9234, -6.6167, -6.33, -5.7713, -5.9275, -5.6401, -7.028, -7.0306, -5.0933, -5.3349, -4.9123, -4.9741, -5.7864, -5.7887, -4.1864, -5.0037, -5.3656, -3.8921, -5.2254, -5.3791, -5.1622, -5.103, -4.9912, -5.3174, -5.3288, -5.6828, -5.582, -5.2704, -5.5235, -5.6229, -4.6726, -5.82, -5.6557, -5.5416, -5.3638, -5.6062, -5.6709, -5.7209, -5.7519], \"loglift\": [30.0, 29.0, 28.0, 27.0, 26.0, 25.0, 24.0, 23.0, 22.0, 21.0, 20.0, 19.0, 18.0, 17.0, 16.0, 15.0, 14.0, 13.0, 12.0, 11.0, 10.0, 9.0, 8.0, 7.0, 6.0, 5.0, 4.0, 3.0, 2.0, 1.0, 0.2289, 0.1924, 0.1884, 0.1879, 0.1865, 0.1782, 0.1673, 0.162, 0.158, 0.1541, 0.1451, 0.1437, 0.1416, 0.1382, 0.1338, 0.1332, 0.1326, 0.1263, 0.1235, 0.1215, 0.1191, 0.1166, 0.116, 0.1115, 0.1112, 0.11, 0.1098, 0.1085, 0.1079, 0.1061, 0.1044, 0.0991, 0.0994, 0.0912, 0.0233, 0.0905, 0.0865, 0.0835, -0.0425, 0.0653, 0.0734, -0.0141, -0.003, -0.0279, -0.0383, -0.0658, -0.0251, -0.1018, -0.0501, -0.1003, -0.0371, 0.0287, -0.0123, -0.1179, -0.065, -0.0805, 0.0143, -0.1173, -0.0184, 0.2181, 0.1804, 0.1724, 0.1634, 0.1621, 0.1618, 0.1572, 0.1549, 0.1506, 0.1405, 0.1396, 0.1392, 0.138, 0.1344, 0.1319, 0.1317, 0.1307, 0.13, 0.1277, 0.1263, 0.1259, 0.1243, 0.124, 0.1238, 0.1228, 0.1219, 0.1198, 0.1195, 0.1179, 0.1153, 0.1067, 0.1062, 0.0935, 0.0922, 0.1067, 0.1044, 0.0413, 0.0624, 0.0753, -0.0241, 0.0483, 0.0618, 0.0373, 0.0274, 0.014, 0.0362, 0.0248, 0.0766, 0.0595, 0.0031, 0.0123, 0.0183, -0.3014, 0.0729, -0.0147, -0.1017, -0.2347, -0.0708, -0.0299, -0.0802, -0.1114]}, \"token.table\": {\"Topic\": [1, 2, 1, 2, 1, 2, 1, 2, 1, 2, 1, 2, 1, 2, 1, 2, 1, 2, 1, 2, 1, 2, 1, 2, 1, 2, 1, 2, 1, 2, 1, 2, 1, 2, 1, 2, 1, 2, 1, 2, 1, 2, 1, 2, 1, 2, 1, 2, 1, 2, 1, 2, 1, 2, 1, 2, 1, 2, 1, 2, 1, 2, 1, 2, 1, 2, 1, 2, 1, 2, 1, 2, 1, 2, 1, 2, 1, 2, 1, 2, 1, 2, 1, 2, 1, 2, 1, 2, 1, 2, 1, 2, 1, 2, 1, 2, 1, 2, 1, 2, 1, 2, 1, 2, 1, 2, 1, 2, 1, 2, 1, 2, 1, 2, 1, 2, 1, 2, 1, 2, 1, 2, 1, 2, 1, 2, 1, 2, 1, 2, 1, 2, 1, 2, 1, 2, 1, 2, 1, 2, 1, 2, 1, 2, 1, 2, 1, 2, 1, 2, 1, 2, 1, 2, 1, 2, 1, 2, 1, 2, 1, 2, 1, 2, 1, 2, 1, 2, 1, 2, 1, 2, 1, 2, 1, 2, 1, 2, 1, 2, 1, 2, 1, 2, 1, 2, 1, 2], \"Freq\": [0.49137772566713483, 0.49137772566713483, 0.49126755431693175, 0.49126755431693175, 0.5270664600880693, 0.5270664600880693, 0.49220646488372943, 0.49220646488372943, 0.3075496155820197, 0.6150992311640394, 0.6142126859346015, 0.409475123956401, 0.4917502176087618, 0.4917502176087618, 0.4472996681137694, 0.5591245851422117, 0.3076288726932866, 0.6152577453865732, 0.6143203378496708, 0.4607402533872531, 0.41017674263969395, 0.615265113959541, 0.5271742802290147, 0.5271742802290147, 0.49112356149423037, 0.49112356149423037, 0.49137159227682614, 0.49137159227682614, 0.6142198621655824, 0.6142198621655824, 0.46137996961751326, 0.615173292823351, 0.4921086853602503, 0.4921086853602503, 0.6140423240360946, 0.4093615493573964, 0.5460209522583637, 0.40951571419377275, 0.40933741502093407, 0.40933741502093407, 0.41006519784220596, 0.41006519784220596, 0.61422885921219, 0.40948590614145997, 0.4094591376493326, 0.4094591376493326, 0.614135652488986, 0.4094237683259907, 0.4911183953790926, 0.4911183953790926, 0.5729735165811723, 0.4092667975579803, 0.6142349340422447, 0.4094899560281631, 0.6139929477147913, 0.4604947107860935, 0.5462572629811269, 0.5462572629811269, 0.6150524780971917, 0.6150524780971917, 0.6151195429910651, 0.6151195429910651, 0.6142455356199674, 0.409497023746645, 0.30754992995810454, 0.6150998599162091, 0.49219141613203665, 0.49219141613203665, 0.49135096324838146, 0.49135096324838146, 0.4913005854328696, 0.4913005854328696, 0.5463036220605737, 0.5463036220605737, 0.5584586956565026, 0.44676695652520215, 0.4393125484137491, 0.527175058096499, 0.5123134399663102, 0.5123134399663102, 0.41005820208858257, 0.6150873031328739, 0.4924013878127041, 0.7386020817190562, 0.47281173790437236, 0.47281173790437236, 0.4917934339876259, 0.4917934339876259, 0.4912221211313955, 0.4912221211313955, 0.4913930325656484, 0.4913930325656484, 0.49211601661738114, 0.49211601661738114, 0.41007594947375303, 0.41007594947375303, 0.41022062162927847, 0.41022062162927847, 0.47293345129831044, 0.5675201415579725, 0.4921038179255956, 0.4921038179255956, 0.5271707652281659, 0.5271707652281659, 0.40990632118628506, 0.5465417615817134, 0.49115273383592367, 0.49115273383592367, 0.5263635663007097, 0.35090904420047314, 0.614269340316991, 0.4607020052377433, 0.6143283421006732, 0.46074625657550494, 0.4611913395385825, 0.4611913395385825, 0.5264018245722567, 0.35093454971483784, 0.6140928526540703, 0.40939523510271353, 0.41006897313050317, 0.6151034596957548, 0.49208651870962, 0.49208651870962, 0.4613189928984032, 0.6150919905312043, 0.6141949274088241, 0.4094632849392161, 0.49218361519080017, 0.49218361519080017, 0.5461057046162675, 0.40957927846220066, 0.6150625435889425, 0.6150625435889425, 0.4471829502004289, 0.5589786877505362, 0.5122794522808508, 0.5122794522808508, 0.4102000056206724, 0.4102000056206724, 0.6143016803121766, 0.46072626023413243, 0.613733421680847, 0.38358338855052937, 0.6141605292046496, 0.4606203969034872, 0.4612364201300119, 0.5381091568183473, 0.5464042174732697, 0.5464042174732697, 0.4341147094207255, 0.5788196125609674, 0.4611565292008354, 0.538015950734308, 0.4100749803170091, 0.6151124704755137, 0.49213182135343403, 0.49213182135343403, 0.4915251041164105, 0.4915251041164105, 0.49213864351277553, 0.49213864351277553, 0.4101343156196935, 0.4101343156196935, 0.6141521873570632, 0.6141521873570632, 0.49128431211226126, 0.49128431211226126, 0.6138825982890317, 0.40925506552602114, 0.6151420610938648, 0.6151420610938648, 0.3514839249556774, 0.5272258874335161, 0.4984813574057162, 0.5317134478994306, 0.5102082337977372, 0.48701695044329457, 0.5062174413297016, 0.5062174413297016, 0.44721803469044985, 0.5590225433630623, 0.5269492495998227, 0.5269492495998227, 0.6141788607304599, 0.4094525738203066, 0.6151094723106753, 0.6151094723106753], \"Term\": [\"ACCOUNT COGNITIVE MENTAL MODEL\", \"ACCOUNT COGNITIVE MENTAL MODEL\", \"ACCURATE DIAGNOSIS\", \"ACCURATE DIAGNOSIS\", \"ADVANCEMENT TECHNOLOGY\", \"ADVANCEMENT TECHNOLOGY\", \"ANXIETY LEVEL\", \"ANXIETY LEVEL\", \"AR APPLICATION\", \"AR APPLICATION\", \"AREA EDUCATION\", \"AREA EDUCATION\", \"ASSISTIVE DEVICE\", \"ASSISTIVE DEVICE\", \"AUDIO HAPTIC\", \"AUDIO HAPTIC\", \"AUDITORY ENVIRONMENT\", \"AUDITORY ENVIRONMENT\", \"AUDITORY HAPTIC\", \"AUDITORY HAPTIC\", \"AUGMENTED REALITY\", \"AUGMENTED REALITY\", \"BINAURAL SOUND\", \"BINAURAL SOUND\", \"BIOLOGY LAB ROOM\", \"BIOLOGY LAB ROOM\", \"CHEAP MASSIVE MULTI PLAYER\", \"CHEAP MASSIVE MULTI PLAYER\", \"CIRCUIT NEGATIVE\", \"CIRCUIT NEGATIVE\", \"CLIMATE CHANGE\", \"CLIMATE CHANGE\", \"COGNITIVE LOAD\", \"COGNITIVE LOAD\", \"COMPONENT VIRTUAL\", \"COMPONENT VIRTUAL\", \"COMPUTER GAME\", \"COMPUTER GAME\", \"COMPUTER INTERFACE\", \"COMPUTER INTERFACE\", \"COMPUTER VISION\", \"COMPUTER VISION\", \"DIGITAL SERVICE EDUCATION CONCERN\", \"DIGITAL SERVICE EDUCATION CONCERN\", \"EEG BIOPHYSICAL\", \"EEG BIOPHYSICAL\", \"ENVIRONMENT REGARD TRADITIONAL METHOD\", \"ENVIRONMENT REGARD TRADITIONAL METHOD\", \"FAMILY CIRCLE\", \"FAMILY CIRCLE\", \"FEAR LEVEL\", \"FEAR LEVEL\", \"FEATURE SELECTION\", \"FEATURE SELECTION\", \"FILE SYSTEM\", \"FILE SYSTEM\", \"FREE FIELD\", \"FREE FIELD\", \"GAME LEARNING\", \"GAME LEARNING\", \"GAME SPECIFIC\", \"GAME SPECIFIC\", \"GENERAL PURPOSE\", \"GENERAL PURPOSE\", \"GLOBAL ILLUMINATION\", \"GLOBAL ILLUMINATION\", \"GPGPU GENERAL PURPOSE\", \"GPGPU GENERAL PURPOSE\", \"HEALTH CARE\", \"HEALTH CARE\", \"HEARING DEVELOPMENT RELIABLE INTERACTIVE\", \"HEARING DEVELOPMENT RELIABLE INTERACTIVE\", \"HEAVY METAL\", \"HEAVY METAL\", \"HOSPITAL INFECTION\", \"HOSPITAL INFECTION\", \"HUMAN BODY\", \"HUMAN BODY\", \"HUMAN HEALTH\", \"HUMAN HEALTH\", \"IMPAIRED USER\", \"IMPAIRED USER\", \"INFLUENCE CANNABIS\", \"INFLUENCE CANNABIS\", \"LARGE NUMBER\", \"LARGE NUMBER\", \"LEARNING PROCESS\", \"LEARNING PROCESS\", \"LEARNING TOOL IMPAIRED EMPLOYMENT\", \"LEARNING TOOL IMPAIRED EMPLOYMENT\", \"LIFELONG LEARNING\", \"LIFELONG LEARNING\", \"LOCALIZATION ACCURACY\", \"LOCALIZATION ACCURACY\", \"LOCALIZATION PERFORMANCE\", \"LOCALIZATION PERFORMANCE\", \"MASSIVE MULTI\", \"MASSIVE MULTI\", \"MIXED REALITY\", \"MIXED REALITY\", \"MMO APPLICATION VIRTUAL ONLINE\", \"MMO APPLICATION VIRTUAL ONLINE\", \"MMO SERVER\", \"MMO SERVER\", \"MOBILE DEVICE\", \"MOBILE DEVICE\", \"MODALITY FEAR\", \"MODALITY FEAR\", \"MODERN TOUCHSCREEN DEVICE\", \"MODERN TOUCHSCREEN DEVICE\", \"MULTI USER\", \"MULTI USER\", \"NEURAL NETWORK\", \"NEURAL NETWORK\", \"NEUROMOTOR REHABILITATION\", \"NEUROMOTOR REHABILITATION\", \"NORMAL VECTOR\", \"NORMAL VECTOR\", \"PARADIGM SHIFT MODERN SOCIETY\", \"PARADIGM SHIFT MODERN SOCIETY\", \"PERCEPTUAL FEEDBACK\", \"PERCEPTUAL FEEDBACK\", \"PLAYER FEELING UNIQUENESS INDIVIDUALIZATION\", \"PLAYER FEELING UNIQUENESS INDIVIDUALIZATION\", \"POINT VIEW\", \"POINT VIEW\", \"POPULATION FACTOR METHOD INSUFFICIENT\", \"POPULATION FACTOR METHOD INSUFFICIENT\", \"PROCESSING UNITS\", \"PROCESSING UNITS\", \"REFLECTION COEFFICIENT\", \"REFLECTION COEFFICIENT\", \"SENSE AUDITORY\", \"SENSE AUDITORY\", \"SENSORY SUBSTITUTION\", \"SENSORY SUBSTITUTION\", \"SENSORY SUBSTITUTION DEVICE\", \"SENSORY SUBSTITUTION DEVICE\", \"SERVER ARCHITECTURE\", \"SERVER ARCHITECTURE\", \"SMART DEVICE\", \"SMART DEVICE\", \"SMITH CHART\", \"SMITH CHART\", \"SONIFICATION MODEL\", \"SONIFICATION MODEL\", \"SOUND LOCALIZATION\", \"SOUND LOCALIZATION\", \"SOUND LOCALIZATION PERFORMANCE\", \"SOUND LOCALIZATION PERFORMANCE\", \"SOUND SOURCE\", \"SOUND SOURCE\", \"SOUND VISION\", \"SOUND VISION\", \"SPATIAL AUDITORY\", \"SPATIAL AUDITORY\", \"SPORT TRAINING SYSTEM\", \"SPORT TRAINING SYSTEM\", \"STATE ART\", \"STATE ART\", \"TIME GLOBAL ILLUMINATION\", \"TIME GLOBAL ILLUMINATION\", \"TRAINING SOUND\", \"TRAINING SOUND\", \"TRAINING TOOL\", \"TRAINING TOOL\", \"USABILITY EDUCATIONAL TOOL IMPAIRED\", \"USABILITY EDUCATIONAL TOOL IMPAIRED\", \"USE MULTIPLAYER MMO VIRTUAL\", \"USE MULTIPLAYER MMO VIRTUAL\", \"USER POPULAR\", \"USER POPULAR\", \"VIRTUAL AUDITORY DISPLAY\", \"VIRTUAL AUDITORY DISPLAY\", \"VIRTUAL ENVIRONMENT\", \"VIRTUAL ENVIRONMENT\", \"VIRTUAL REALITY\", \"VIRTUAL REALITY\", \"VIRTUAL SPACE\", \"VIRTUAL SPACE\", \"VIRTUAL THERAPIST\", \"VIRTUAL THERAPIST\", \"VIRTUAL WORLD\", \"VIRTUAL WORLD\", \"WORLD IMMERSIVE ENTERTAINING PRACTICAL\", \"WORLD IMMERSIVE ENTERTAINING PRACTICAL\", \"WORLD POPULATION\", \"WORLD POPULATION\"]}, \"R\": 30, \"lambda.step\": 0.01, \"plot.opts\": {\"xlab\": \"PC1\", \"ylab\": \"PC2\"}, \"topic.order\": [2, 1]};\n",
       "\n",
       "function LDAvis_load_lib(url, callback){\n",
       "  var s = document.createElement('script');\n",
       "  s.src = url;\n",
       "  s.async = true;\n",
       "  s.onreadystatechange = s.onload = callback;\n",
       "  s.onerror = function(){console.warn(\"failed to load library \" + url);};\n",
       "  document.getElementsByTagName(\"head\")[0].appendChild(s);\n",
       "}\n",
       "\n",
       "if(typeof(LDAvis) !== \"undefined\"){\n",
       "   // already loaded: just create the visualization\n",
       "   !function(LDAvis){\n",
       "       new LDAvis(\"#\" + \"ldavis_el1256419851874835369508331576\", ldavis_el1256419851874835369508331576_data);\n",
       "   }(LDAvis);\n",
       "}else if(typeof define === \"function\" && define.amd){\n",
       "   // require.js is available: use it to load d3/LDAvis\n",
       "   require.config({paths: {d3: \"https://d3js.org/d3.v5\"}});\n",
       "   require([\"d3\"], function(d3){\n",
       "      window.d3 = d3;\n",
       "      LDAvis_load_lib(\"https://cdn.jsdelivr.net/gh/bmabey/pyLDAvis@3.4.0/pyLDAvis/js/ldavis.v3.0.0.js\", function(){\n",
       "        new LDAvis(\"#\" + \"ldavis_el1256419851874835369508331576\", ldavis_el1256419851874835369508331576_data);\n",
       "      });\n",
       "    });\n",
       "}else{\n",
       "    // require.js not available: dynamically load d3 & LDAvis\n",
       "    LDAvis_load_lib(\"https://d3js.org/d3.v5.js\", function(){\n",
       "         LDAvis_load_lib(\"https://cdn.jsdelivr.net/gh/bmabey/pyLDAvis@3.4.0/pyLDAvis/js/ldavis.v3.0.0.js\", function(){\n",
       "                 new LDAvis(\"#\" + \"ldavis_el1256419851874835369508331576\", ldavis_el1256419851874835369508331576_data);\n",
       "            })\n",
       "         });\n",
       "}\n",
       "</script>"
      ],
      "text/plain": [
       "PreparedData(topic_coordinates=              x    y  topics  cluster       Freq\n",
       "topic                                           \n",
       "1      0.001651  0.0       1        1  50.297075\n",
       "0     -0.001651  0.0       2        1  49.702925, topic_info=                            Term       Freq      Total Category  logprob  \\\n",
       "143                  SMITH CHART  26.000000  26.000000  Default  30.0000   \n",
       "260                   FEAR LEVEL  12.000000  12.000000  Default  29.0000   \n",
       "172           INFLUENCE CANNABIS   4.000000   4.000000  Default  28.0000   \n",
       "313  USE MULTIPLAYER MMO VIRTUAL   4.000000   4.000000  Default  27.0000   \n",
       "287                  FILE SYSTEM   6.000000   6.000000  Default  26.0000   \n",
       "..                           ...        ...        ...      ...      ...   \n",
       "260                   FEAR LEVEL   4.801835  12.216970   Topic2  -5.3638   \n",
       "135                    STATE ART   3.768418   8.137936   Topic2  -5.6062   \n",
       "267                   FREE FIELD   3.532168   7.322557   Topic2  -5.6709   \n",
       "223       REFLECTION COEFFICIENT   3.360004   7.324589   Topic2  -5.7209   \n",
       "144                COMPUTER GAME   3.257278   7.325726   Topic2  -5.7519   \n",
       "\n",
       "     loglift  \n",
       "143  30.0000  \n",
       "260  29.0000  \n",
       "172  28.0000  \n",
       "313  27.0000  \n",
       "287  26.0000  \n",
       "..       ...  \n",
       "260  -0.2347  \n",
       "135  -0.0708  \n",
       "267  -0.0299  \n",
       "223  -0.0802  \n",
       "144  -0.1114  \n",
       "\n",
       "[150 rows x 6 columns], token_table=      Topic      Freq                                    Term\n",
       "term                                                         \n",
       "14        1  0.491378          ACCOUNT COGNITIVE MENTAL MODEL\n",
       "14        2  0.491378          ACCOUNT COGNITIVE MENTAL MODEL\n",
       "390       1  0.491268                      ACCURATE DIAGNOSIS\n",
       "390       2  0.491268                      ACCURATE DIAGNOSIS\n",
       "373       1  0.527066                  ADVANCEMENT TECHNOLOGY\n",
       "...     ...       ...                                     ...\n",
       "130       2  0.526949                           VIRTUAL WORLD\n",
       "316       1  0.614179  WORLD IMMERSIVE ENTERTAINING PRACTICAL\n",
       "316       2  0.409453  WORLD IMMERSIVE ENTERTAINING PRACTICAL\n",
       "461       1  0.615109                        WORLD POPULATION\n",
       "461       2  0.615109                        WORLD POPULATION\n",
       "\n",
       "[188 rows x 3 columns], R=30, lambda_step=0.01, plot_opts={'xlab': 'PC1', 'ylab': 'PC2'}, topic_order=[2, 1])"
      ]
     },
     "execution_count": 1232,
     "metadata": {},
     "output_type": "execute_result"
    }
   ],
   "source": [
    "pyLDAvis.enable_notebook()\n",
    "pyLDAvis.gensim.prepare(lda_model, corpus, dictionary)"
   ]
  },
  {
   "cell_type": "code",
   "execution_count": null,
   "id": "36352dd4-60bb-4211-9a8b-7b44c911738b",
   "metadata": {},
   "outputs": [],
   "source": []
  }
 ],
 "metadata": {
  "kernelspec": {
   "display_name": "Python 3 (ipykernel)",
   "language": "python",
   "name": "python3"
  },
  "language_info": {
   "codemirror_mode": {
    "name": "ipython",
    "version": 3
   },
   "file_extension": ".py",
   "mimetype": "text/x-python",
   "name": "python",
   "nbconvert_exporter": "python",
   "pygments_lexer": "ipython3",
   "version": "3.9.0"
  }
 },
 "nbformat": 4,
 "nbformat_minor": 5
}
